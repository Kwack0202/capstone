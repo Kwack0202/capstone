{
 "cells": [
  {
   "attachments": {},
   "cell_type": "markdown",
   "metadata": {},
   "source": [
    "# Import"
   ]
  },
  {
   "cell_type": "code",
   "execution_count": 1,
   "metadata": {},
   "outputs": [
    {
     "name": "stderr",
     "output_type": "stream",
     "text": [
      "c:\\Users\\coden\\anaconda3\\envs\\capstone\\lib\\site-packages\\tqdm\\auto.py:21: TqdmWarning: IProgress not found. Please update jupyter and ipywidgets. See https://ipywidgets.readthedocs.io/en/stable/user_install.html\n",
      "  from .autonotebook import tqdm as notebook_tqdm\n"
     ]
    }
   ],
   "source": [
    "# tqdm\n",
    "from tqdm import tqdm\n",
    "\n",
    "# torch\n",
    "import torch\n",
    "import torchvision\n",
    "import torchvision.models as models\n",
    "from torchvision import transforms"
   ]
  },
  {
   "cell_type": "code",
   "execution_count": 2,
   "metadata": {},
   "outputs": [],
   "source": [
    "import os\n",
    "import numpy as np\n",
    "from tensorflow.keras.preprocessing.image import load_img, img_to_array\n",
    "from tensorflow.keras.applications.vgg16 import VGG16, preprocess_input\n",
    "from sklearn.metrics.pairwise import cosine_similarity\n",
    "from tensorflow.keras.preprocessing import image\n",
    "import shutil"
   ]
  },
  {
   "attachments": {},
   "cell_type": "markdown",
   "metadata": {},
   "source": [
    "# 전체 종목에 대해 진행 거래량 bar X"
   ]
  },
  {
   "cell_type": "code",
   "execution_count": 3,
   "metadata": {},
   "outputs": [],
   "source": [
    "# VGG16 모델을 불러옵니다.\n",
    "model = VGG16(weights='imagenet', include_top=False)"
   ]
  },
  {
   "cell_type": "code",
   "execution_count": 4,
   "metadata": {},
   "outputs": [],
   "source": [
    "# train, test 이미지 경로 지정\n",
    "train_root_path = \"./img_without_vol_10/train/\"\n",
    "test_root_path = \"./img_without_vol_10/test/\""
   ]
  },
  {
   "cell_type": "code",
   "execution_count": 7,
   "metadata": {},
   "outputs": [
    {
     "name": "stderr",
     "output_type": "stream",
     "text": [
      "  0%|          | 0/140 [00:00<?, ?it/s]"
     ]
    },
    {
     "name": "stdout",
     "output_type": "stream",
     "text": [
      "Copying similar images for stock code 000060\n"
     ]
    },
    {
     "name": "stderr",
     "output_type": "stream",
     "text": [
      "100%|██████████| 393/393 [01:22<00:00,  4.79it/s]\n",
      "100%|██████████| 97/97 [00:29<00:00,  3.33it/s]\n",
      "  1%|          | 1/140 [01:51<4:17:50, 111.30s/it]"
     ]
    },
    {
     "name": "stdout",
     "output_type": "stream",
     "text": [
      "Copying similar images for stock code 000080\n"
     ]
    },
    {
     "name": "stderr",
     "output_type": "stream",
     "text": [
      "100%|██████████| 393/393 [01:28<00:00,  4.46it/s]\n",
      "100%|██████████| 97/97 [00:30<00:00,  3.22it/s]\n",
      "  1%|▏         | 2/140 [03:49<4:25:32, 115.46s/it]"
     ]
    },
    {
     "name": "stdout",
     "output_type": "stream",
     "text": [
      "Copying similar images for stock code 000100\n"
     ]
    },
    {
     "name": "stderr",
     "output_type": "stream",
     "text": [
      "100%|██████████| 393/393 [01:20<00:00,  4.88it/s]\n",
      "100%|██████████| 97/97 [00:27<00:00,  3.53it/s]\n",
      "  2%|▏         | 3/140 [05:37<4:15:48, 112.03s/it]"
     ]
    },
    {
     "name": "stdout",
     "output_type": "stream",
     "text": [
      "Copying similar images for stock code 000120\n"
     ]
    },
    {
     "name": "stderr",
     "output_type": "stream",
     "text": [
      "100%|██████████| 393/393 [01:20<00:00,  4.85it/s]\n",
      "100%|██████████| 97/97 [00:28<00:00,  3.44it/s]\n",
      "  3%|▎         | 4/140 [07:26<4:11:23, 110.91s/it]"
     ]
    },
    {
     "name": "stdout",
     "output_type": "stream",
     "text": [
      "Copying similar images for stock code 000270\n"
     ]
    },
    {
     "name": "stderr",
     "output_type": "stream",
     "text": [
      "100%|██████████| 393/393 [01:22<00:00,  4.75it/s]\n",
      "100%|██████████| 97/97 [00:28<00:00,  3.45it/s]\n",
      "  4%|▎         | 5/140 [09:17<4:09:31, 110.90s/it]"
     ]
    },
    {
     "name": "stdout",
     "output_type": "stream",
     "text": [
      "Copying similar images for stock code 000660\n"
     ]
    },
    {
     "name": "stderr",
     "output_type": "stream",
     "text": [
      "100%|██████████| 393/393 [01:21<00:00,  4.80it/s]\n",
      "100%|██████████| 97/97 [00:29<00:00,  3.33it/s]\n",
      "  4%|▍         | 6/140 [11:08<4:07:47, 110.95s/it]"
     ]
    },
    {
     "name": "stdout",
     "output_type": "stream",
     "text": [
      "Copying similar images for stock code 000720\n"
     ]
    },
    {
     "name": "stderr",
     "output_type": "stream",
     "text": [
      "100%|██████████| 393/393 [01:22<00:00,  4.75it/s]\n",
      "100%|██████████| 97/97 [00:28<00:00,  3.42it/s]\n",
      "  5%|▌         | 7/140 [12:59<4:06:05, 111.02s/it]"
     ]
    },
    {
     "name": "stdout",
     "output_type": "stream",
     "text": [
      "Copying similar images for stock code 000810\n"
     ]
    },
    {
     "name": "stderr",
     "output_type": "stream",
     "text": [
      "100%|██████████| 393/393 [01:22<00:00,  4.74it/s]\n",
      "100%|██████████| 97/97 [00:29<00:00,  3.34it/s]\n",
      "  6%|▌         | 8/140 [14:51<4:04:51, 111.30s/it]"
     ]
    },
    {
     "name": "stdout",
     "output_type": "stream",
     "text": [
      "Copying similar images for stock code 000880\n"
     ]
    },
    {
     "name": "stderr",
     "output_type": "stream",
     "text": [
      "100%|██████████| 393/393 [01:23<00:00,  4.72it/s]\n",
      "100%|██████████| 97/97 [00:28<00:00,  3.39it/s]\n",
      "  6%|▋         | 9/140 [16:43<4:03:26, 111.50s/it]"
     ]
    },
    {
     "name": "stdout",
     "output_type": "stream",
     "text": [
      "Copying similar images for stock code 000990\n"
     ]
    },
    {
     "name": "stderr",
     "output_type": "stream",
     "text": [
      "100%|██████████| 393/393 [01:21<00:00,  4.85it/s]\n",
      "100%|██████████| 97/97 [00:28<00:00,  3.35it/s]\n",
      "  7%|▋         | 10/140 [18:33<4:00:37, 111.06s/it]"
     ]
    },
    {
     "name": "stdout",
     "output_type": "stream",
     "text": [
      "Copying similar images for stock code 001040\n"
     ]
    },
    {
     "name": "stderr",
     "output_type": "stream",
     "text": [
      "100%|██████████| 393/393 [01:22<00:00,  4.75it/s]\n",
      "100%|██████████| 97/97 [00:29<00:00,  3.29it/s]\n",
      "  8%|▊         | 11/140 [20:26<3:59:32, 111.42s/it]"
     ]
    },
    {
     "name": "stdout",
     "output_type": "stream",
     "text": [
      "Copying similar images for stock code 001440\n"
     ]
    },
    {
     "name": "stderr",
     "output_type": "stream",
     "text": [
      "100%|██████████| 393/393 [01:24<00:00,  4.67it/s]\n",
      "100%|██████████| 97/97 [00:28<00:00,  3.38it/s]\n",
      "  9%|▊         | 12/140 [22:18<3:58:40, 111.88s/it]"
     ]
    },
    {
     "name": "stdout",
     "output_type": "stream",
     "text": [
      "Copying similar images for stock code 001450\n"
     ]
    },
    {
     "name": "stderr",
     "output_type": "stream",
     "text": [
      "100%|██████████| 393/393 [01:24<00:00,  4.62it/s]\n",
      "100%|██████████| 97/97 [00:27<00:00,  3.54it/s]\n",
      "  9%|▉         | 13/140 [24:11<3:57:08, 112.04s/it]"
     ]
    },
    {
     "name": "stdout",
     "output_type": "stream",
     "text": [
      "Copying similar images for stock code 002380\n"
     ]
    },
    {
     "name": "stderr",
     "output_type": "stream",
     "text": [
      "100%|██████████| 393/393 [01:24<00:00,  4.63it/s]\n",
      "100%|██████████| 97/97 [00:28<00:00,  3.43it/s]\n",
      " 10%|█         | 14/140 [26:04<3:56:02, 112.40s/it]"
     ]
    },
    {
     "name": "stdout",
     "output_type": "stream",
     "text": [
      "Copying similar images for stock code 002790\n"
     ]
    },
    {
     "name": "stderr",
     "output_type": "stream",
     "text": [
      "100%|██████████| 393/393 [01:23<00:00,  4.72it/s]\n",
      "100%|██████████| 97/97 [00:28<00:00,  3.37it/s]\n",
      " 11%|█         | 15/140 [27:56<3:53:53, 112.27s/it]"
     ]
    },
    {
     "name": "stdout",
     "output_type": "stream",
     "text": [
      "Copying similar images for stock code 003410\n"
     ]
    },
    {
     "name": "stderr",
     "output_type": "stream",
     "text": [
      "100%|██████████| 393/393 [01:22<00:00,  4.77it/s]\n",
      "100%|██████████| 97/97 [00:28<00:00,  3.43it/s]\n",
      " 11%|█▏        | 16/140 [29:47<3:51:05, 111.82s/it]"
     ]
    },
    {
     "name": "stdout",
     "output_type": "stream",
     "text": [
      "Copying similar images for stock code 003490\n"
     ]
    },
    {
     "name": "stderr",
     "output_type": "stream",
     "text": [
      "100%|██████████| 393/393 [01:23<00:00,  4.70it/s]\n",
      "100%|██████████| 97/97 [00:28<00:00,  3.42it/s]\n",
      " 12%|█▏        | 17/140 [31:39<3:49:18, 111.86s/it]"
     ]
    },
    {
     "name": "stdout",
     "output_type": "stream",
     "text": [
      "Copying similar images for stock code 003550\n"
     ]
    },
    {
     "name": "stderr",
     "output_type": "stream",
     "text": [
      "100%|██████████| 393/393 [01:21<00:00,  4.83it/s]\n",
      "100%|██████████| 97/97 [00:28<00:00,  3.43it/s]\n",
      " 13%|█▎        | 18/140 [33:28<3:46:03, 111.18s/it]"
     ]
    },
    {
     "name": "stdout",
     "output_type": "stream",
     "text": [
      "Copying similar images for stock code 003670\n"
     ]
    },
    {
     "name": "stderr",
     "output_type": "stream",
     "text": [
      "100%|██████████| 393/393 [01:20<00:00,  4.86it/s]\n",
      "100%|██████████| 97/97 [00:27<00:00,  3.55it/s]\n",
      " 14%|█▎        | 19/140 [35:17<3:42:27, 110.31s/it]"
     ]
    },
    {
     "name": "stdout",
     "output_type": "stream",
     "text": [
      "Copying similar images for stock code 004020\n"
     ]
    },
    {
     "name": "stderr",
     "output_type": "stream",
     "text": [
      "100%|██████████| 393/393 [01:22<00:00,  4.79it/s]\n",
      "100%|██████████| 97/97 [00:26<00:00,  3.65it/s]\n",
      " 14%|█▍        | 20/140 [37:05<3:39:40, 109.84s/it]"
     ]
    },
    {
     "name": "stdout",
     "output_type": "stream",
     "text": [
      "Copying similar images for stock code 004170\n"
     ]
    },
    {
     "name": "stderr",
     "output_type": "stream",
     "text": [
      "100%|██████████| 393/393 [01:22<00:00,  4.75it/s]\n",
      "100%|██████████| 97/97 [00:28<00:00,  3.39it/s]\n",
      " 15%|█▌        | 21/140 [38:57<3:38:48, 110.33s/it]"
     ]
    },
    {
     "name": "stdout",
     "output_type": "stream",
     "text": [
      "Copying similar images for stock code 004370\n"
     ]
    },
    {
     "name": "stderr",
     "output_type": "stream",
     "text": [
      "100%|██████████| 393/393 [01:20<00:00,  4.88it/s]\n",
      "100%|██████████| 97/97 [00:28<00:00,  3.40it/s]\n",
      " 16%|█▌        | 22/140 [40:46<3:36:15, 109.96s/it]"
     ]
    },
    {
     "name": "stdout",
     "output_type": "stream",
     "text": [
      "Copying similar images for stock code 004690\n"
     ]
    },
    {
     "name": "stderr",
     "output_type": "stream",
     "text": [
      "100%|██████████| 393/393 [01:21<00:00,  4.82it/s]\n",
      "100%|██████████| 97/97 [00:28<00:00,  3.38it/s]\n",
      " 16%|█▋        | 23/140 [42:36<3:34:37, 110.06s/it]"
     ]
    },
    {
     "name": "stdout",
     "output_type": "stream",
     "text": [
      "Copying similar images for stock code 004990\n"
     ]
    },
    {
     "name": "stderr",
     "output_type": "stream",
     "text": [
      "100%|██████████| 393/393 [01:23<00:00,  4.72it/s]\n",
      "100%|██████████| 97/97 [00:26<00:00,  3.63it/s]\n",
      " 17%|█▋        | 24/140 [44:26<3:32:44, 110.04s/it]"
     ]
    },
    {
     "name": "stdout",
     "output_type": "stream",
     "text": [
      "Copying similar images for stock code 005070\n"
     ]
    },
    {
     "name": "stderr",
     "output_type": "stream",
     "text": [
      "100%|██████████| 393/393 [01:22<00:00,  4.75it/s]\n",
      "100%|██████████| 97/97 [00:26<00:00,  3.62it/s]\n",
      " 18%|█▊        | 25/140 [46:16<3:30:36, 109.89s/it]"
     ]
    },
    {
     "name": "stdout",
     "output_type": "stream",
     "text": [
      "Copying similar images for stock code 005300\n"
     ]
    },
    {
     "name": "stderr",
     "output_type": "stream",
     "text": [
      "100%|██████████| 393/393 [01:22<00:00,  4.74it/s]\n",
      "100%|██████████| 97/97 [00:29<00:00,  3.25it/s]\n",
      " 19%|█▊        | 26/140 [48:09<3:30:25, 110.75s/it]"
     ]
    },
    {
     "name": "stdout",
     "output_type": "stream",
     "text": [
      "Copying similar images for stock code 005380\n"
     ]
    },
    {
     "name": "stderr",
     "output_type": "stream",
     "text": [
      "100%|██████████| 393/393 [01:24<00:00,  4.68it/s]\n",
      "100%|██████████| 97/97 [00:31<00:00,  3.09it/s]\n",
      " 19%|█▉        | 27/140 [50:04<3:31:12, 112.15s/it]"
     ]
    },
    {
     "name": "stdout",
     "output_type": "stream",
     "text": [
      "Copying similar images for stock code 005385\n"
     ]
    },
    {
     "name": "stderr",
     "output_type": "stream",
     "text": [
      "100%|██████████| 393/393 [01:24<00:00,  4.65it/s]\n",
      "100%|██████████| 97/97 [00:30<00:00,  3.19it/s]\n",
      " 20%|██        | 28/140 [51:59<3:30:56, 113.00s/it]"
     ]
    },
    {
     "name": "stdout",
     "output_type": "stream",
     "text": [
      "Copying similar images for stock code 005387\n"
     ]
    },
    {
     "name": "stderr",
     "output_type": "stream",
     "text": [
      "100%|██████████| 393/393 [01:24<00:00,  4.65it/s]\n",
      "100%|██████████| 97/97 [00:29<00:00,  3.28it/s]\n",
      " 21%|██        | 29/140 [53:53<3:29:40, 113.33s/it]"
     ]
    },
    {
     "name": "stdout",
     "output_type": "stream",
     "text": [
      "Copying similar images for stock code 005490\n"
     ]
    },
    {
     "name": "stderr",
     "output_type": "stream",
     "text": [
      "100%|██████████| 393/393 [01:25<00:00,  4.57it/s]\n",
      "100%|██████████| 97/97 [00:29<00:00,  3.34it/s]\n",
      " 21%|██▏       | 30/140 [55:48<3:28:41, 113.83s/it]"
     ]
    },
    {
     "name": "stdout",
     "output_type": "stream",
     "text": [
      "Copying similar images for stock code 005830\n"
     ]
    },
    {
     "name": "stderr",
     "output_type": "stream",
     "text": [
      "100%|██████████| 393/393 [01:23<00:00,  4.73it/s]\n",
      "100%|██████████| 97/97 [00:29<00:00,  3.25it/s]\n",
      " 22%|██▏       | 31/140 [57:41<3:26:17, 113.56s/it]"
     ]
    },
    {
     "name": "stdout",
     "output_type": "stream",
     "text": [
      "Copying similar images for stock code 005930\n"
     ]
    },
    {
     "name": "stderr",
     "output_type": "stream",
     "text": [
      "100%|██████████| 393/393 [01:25<00:00,  4.61it/s]\n",
      "100%|██████████| 97/97 [00:29<00:00,  3.26it/s]\n",
      " 23%|██▎       | 32/140 [59:36<3:25:12, 114.00s/it]"
     ]
    },
    {
     "name": "stdout",
     "output_type": "stream",
     "text": [
      "Copying similar images for stock code 005935\n"
     ]
    },
    {
     "name": "stderr",
     "output_type": "stream",
     "text": [
      "100%|██████████| 393/393 [01:23<00:00,  4.68it/s]\n",
      "100%|██████████| 97/97 [00:29<00:00,  3.34it/s]\n",
      " 24%|██▎       | 33/140 [1:01:29<3:22:47, 113.72s/it]"
     ]
    },
    {
     "name": "stdout",
     "output_type": "stream",
     "text": [
      "Copying similar images for stock code 005940\n"
     ]
    },
    {
     "name": "stderr",
     "output_type": "stream",
     "text": [
      "100%|██████████| 393/393 [01:22<00:00,  4.75it/s]\n",
      "100%|██████████| 97/97 [00:28<00:00,  3.37it/s]\n",
      " 24%|██▍       | 34/140 [1:03:21<3:19:46, 113.08s/it]"
     ]
    },
    {
     "name": "stdout",
     "output_type": "stream",
     "text": [
      "Copying similar images for stock code 006040\n"
     ]
    },
    {
     "name": "stderr",
     "output_type": "stream",
     "text": [
      "100%|██████████| 393/393 [01:23<00:00,  4.72it/s]\n",
      "100%|██████████| 97/97 [00:29<00:00,  3.26it/s]\n",
      " 25%|██▌       | 35/140 [1:05:14<3:17:52, 113.07s/it]"
     ]
    },
    {
     "name": "stdout",
     "output_type": "stream",
     "text": [
      "Copying similar images for stock code 006260\n"
     ]
    },
    {
     "name": "stderr",
     "output_type": "stream",
     "text": [
      "100%|██████████| 393/393 [01:24<00:00,  4.65it/s]\n",
      "100%|██████████| 97/97 [00:29<00:00,  3.29it/s]\n",
      " 26%|██▌       | 36/140 [1:07:08<3:16:29, 113.36s/it]"
     ]
    },
    {
     "name": "stdout",
     "output_type": "stream",
     "text": [
      "Copying similar images for stock code 006360\n"
     ]
    },
    {
     "name": "stderr",
     "output_type": "stream",
     "text": [
      "100%|██████████| 393/393 [01:25<00:00,  4.58it/s]\n",
      "100%|██████████| 97/97 [00:30<00:00,  3.19it/s]\n",
      " 26%|██▋       | 37/140 [1:09:04<3:16:03, 114.20s/it]"
     ]
    },
    {
     "name": "stdout",
     "output_type": "stream",
     "text": [
      "Copying similar images for stock code 006400\n"
     ]
    },
    {
     "name": "stderr",
     "output_type": "stream",
     "text": [
      "100%|██████████| 393/393 [01:23<00:00,  4.69it/s]\n",
      "100%|██████████| 97/97 [00:29<00:00,  3.32it/s]\n",
      " 27%|██▋       | 38/140 [1:10:57<3:13:32, 113.85s/it]"
     ]
    },
    {
     "name": "stdout",
     "output_type": "stream",
     "text": [
      "Copying similar images for stock code 006800\n"
     ]
    },
    {
     "name": "stderr",
     "output_type": "stream",
     "text": [
      "100%|██████████| 393/393 [01:23<00:00,  4.71it/s]\n",
      "100%|██████████| 97/97 [00:29<00:00,  3.30it/s]\n",
      " 28%|██▊       | 39/140 [1:12:50<3:11:09, 113.56s/it]"
     ]
    },
    {
     "name": "stdout",
     "output_type": "stream",
     "text": [
      "Copying similar images for stock code 007070\n"
     ]
    },
    {
     "name": "stderr",
     "output_type": "stream",
     "text": [
      "100%|██████████| 393/393 [01:23<00:00,  4.73it/s]\n",
      "100%|██████████| 97/97 [00:28<00:00,  3.37it/s]\n",
      " 29%|██▊       | 40/140 [1:14:42<3:08:27, 113.07s/it]"
     ]
    },
    {
     "name": "stdout",
     "output_type": "stream",
     "text": [
      "Copying similar images for stock code 007310\n"
     ]
    },
    {
     "name": "stderr",
     "output_type": "stream",
     "text": [
      "100%|██████████| 393/393 [01:22<00:00,  4.74it/s]\n",
      "100%|██████████| 97/97 [00:28<00:00,  3.42it/s]\n",
      " 29%|██▉       | 41/140 [1:16:33<3:05:41, 112.54s/it]"
     ]
    },
    {
     "name": "stdout",
     "output_type": "stream",
     "text": [
      "Copying similar images for stock code 008560\n"
     ]
    },
    {
     "name": "stderr",
     "output_type": "stream",
     "text": [
      "100%|██████████| 393/393 [01:22<00:00,  4.78it/s]\n",
      "100%|██████████| 97/97 [00:28<00:00,  3.37it/s]\n",
      " 30%|███       | 42/140 [1:18:24<3:03:04, 112.08s/it]"
     ]
    },
    {
     "name": "stdout",
     "output_type": "stream",
     "text": [
      "Copying similar images for stock code 008770\n"
     ]
    },
    {
     "name": "stderr",
     "output_type": "stream",
     "text": [
      "100%|██████████| 393/393 [01:22<00:00,  4.76it/s]\n",
      "100%|██████████| 97/97 [00:29<00:00,  3.29it/s]\n",
      " 31%|███       | 43/140 [1:20:16<3:01:09, 112.06s/it]"
     ]
    },
    {
     "name": "stdout",
     "output_type": "stream",
     "text": [
      "Copying similar images for stock code 008930\n"
     ]
    },
    {
     "name": "stderr",
     "output_type": "stream",
     "text": [
      "100%|██████████| 393/393 [01:23<00:00,  4.71it/s]\n",
      "100%|██████████| 97/97 [00:29<00:00,  3.32it/s]\n",
      " 31%|███▏      | 44/140 [1:22:09<2:59:39, 112.28s/it]"
     ]
    },
    {
     "name": "stdout",
     "output_type": "stream",
     "text": [
      "Copying similar images for stock code 009150\n"
     ]
    },
    {
     "name": "stderr",
     "output_type": "stream",
     "text": [
      "100%|██████████| 393/393 [01:23<00:00,  4.69it/s]\n",
      "100%|██████████| 97/97 [00:29<00:00,  3.30it/s]\n",
      " 32%|███▏      | 45/140 [1:24:02<2:58:16, 112.59s/it]"
     ]
    },
    {
     "name": "stdout",
     "output_type": "stream",
     "text": [
      "Copying similar images for stock code 009540\n"
     ]
    },
    {
     "name": "stderr",
     "output_type": "stream",
     "text": [
      "100%|██████████| 393/393 [01:25<00:00,  4.57it/s]\n",
      "100%|██████████| 97/97 [00:28<00:00,  3.40it/s]\n",
      " 33%|███▎      | 46/140 [1:25:57<2:57:17, 113.17s/it]"
     ]
    },
    {
     "name": "stdout",
     "output_type": "stream",
     "text": [
      "Copying similar images for stock code 009830\n"
     ]
    },
    {
     "name": "stderr",
     "output_type": "stream",
     "text": [
      "100%|██████████| 393/393 [01:25<00:00,  4.58it/s]\n",
      "100%|██████████| 97/97 [00:30<00:00,  3.19it/s]\n",
      " 34%|███▎      | 47/140 [1:27:53<2:56:50, 114.09s/it]"
     ]
    },
    {
     "name": "stdout",
     "output_type": "stream",
     "text": [
      "Copying similar images for stock code 010060\n"
     ]
    },
    {
     "name": "stderr",
     "output_type": "stream",
     "text": [
      "100%|██████████| 393/393 [01:32<00:00,  4.24it/s]\n",
      "100%|██████████| 97/97 [00:30<00:00,  3.21it/s]\n",
      " 34%|███▍      | 48/140 [1:29:56<2:59:00, 116.75s/it]"
     ]
    },
    {
     "name": "stdout",
     "output_type": "stream",
     "text": [
      "Copying similar images for stock code 010120\n"
     ]
    },
    {
     "name": "stderr",
     "output_type": "stream",
     "text": [
      "100%|██████████| 393/393 [01:33<00:00,  4.22it/s]\n",
      "100%|██████████| 97/97 [00:31<00:00,  3.13it/s]\n",
      " 35%|███▌      | 49/140 [1:32:00<3:00:26, 118.97s/it]"
     ]
    },
    {
     "name": "stdout",
     "output_type": "stream",
     "text": [
      "Copying similar images for stock code 010130\n"
     ]
    },
    {
     "name": "stderr",
     "output_type": "stream",
     "text": [
      "100%|██████████| 393/393 [01:31<00:00,  4.28it/s]\n",
      "100%|██████████| 97/97 [00:30<00:00,  3.14it/s]\n",
      " 36%|███▌      | 50/140 [1:34:03<3:00:05, 120.07s/it]"
     ]
    },
    {
     "name": "stdout",
     "output_type": "stream",
     "text": [
      "Copying similar images for stock code 010140\n"
     ]
    },
    {
     "name": "stderr",
     "output_type": "stream",
     "text": [
      "100%|██████████| 393/393 [01:30<00:00,  4.32it/s]\n",
      "100%|██████████| 97/97 [00:29<00:00,  3.31it/s]\n",
      " 36%|███▋      | 51/140 [1:36:03<2:58:10, 120.12s/it]"
     ]
    },
    {
     "name": "stdout",
     "output_type": "stream",
     "text": [
      "Copying similar images for stock code 010620\n"
     ]
    },
    {
     "name": "stderr",
     "output_type": "stream",
     "text": [
      "100%|██████████| 393/393 [01:27<00:00,  4.50it/s]\n",
      "100%|██████████| 97/97 [00:30<00:00,  3.23it/s]\n",
      " 37%|███▋      | 52/140 [1:38:00<2:54:57, 119.29s/it]"
     ]
    },
    {
     "name": "stdout",
     "output_type": "stream",
     "text": [
      "Copying similar images for stock code 010950\n"
     ]
    },
    {
     "name": "stderr",
     "output_type": "stream",
     "text": [
      "100%|██████████| 393/393 [01:28<00:00,  4.43it/s]\n",
      "100%|██████████| 97/97 [00:30<00:00,  3.19it/s]\n",
      " 38%|███▊      | 53/140 [1:40:00<2:52:56, 119.27s/it]"
     ]
    },
    {
     "name": "stdout",
     "output_type": "stream",
     "text": [
      "Copying similar images for stock code 011070\n"
     ]
    },
    {
     "name": "stderr",
     "output_type": "stream",
     "text": [
      "100%|██████████| 393/393 [01:36<00:00,  4.07it/s]\n",
      "100%|██████████| 97/97 [00:29<00:00,  3.26it/s]\n",
      " 39%|███▊      | 54/140 [1:42:06<2:53:56, 121.35s/it]"
     ]
    },
    {
     "name": "stdout",
     "output_type": "stream",
     "text": [
      "Copying similar images for stock code 011170\n"
     ]
    },
    {
     "name": "stderr",
     "output_type": "stream",
     "text": [
      "100%|██████████| 393/393 [01:30<00:00,  4.32it/s]\n",
      "100%|██████████| 97/97 [00:30<00:00,  3.23it/s]\n",
      " 39%|███▉      | 55/140 [1:44:07<2:51:46, 121.25s/it]"
     ]
    },
    {
     "name": "stdout",
     "output_type": "stream",
     "text": [
      "Copying similar images for stock code 011200\n"
     ]
    },
    {
     "name": "stderr",
     "output_type": "stream",
     "text": [
      "100%|██████████| 393/393 [01:29<00:00,  4.37it/s]\n",
      "100%|██████████| 97/97 [00:30<00:00,  3.22it/s]\n",
      " 40%|████      | 56/140 [1:46:07<2:49:15, 120.90s/it]"
     ]
    },
    {
     "name": "stdout",
     "output_type": "stream",
     "text": [
      "Copying similar images for stock code 011780\n"
     ]
    },
    {
     "name": "stderr",
     "output_type": "stream",
     "text": [
      "100%|██████████| 393/393 [01:28<00:00,  4.45it/s]\n",
      "100%|██████████| 97/97 [00:30<00:00,  3.23it/s]\n",
      " 41%|████      | 57/140 [1:48:05<2:46:10, 120.13s/it]"
     ]
    },
    {
     "name": "stdout",
     "output_type": "stream",
     "text": [
      "Copying similar images for stock code 011790\n"
     ]
    },
    {
     "name": "stderr",
     "output_type": "stream",
     "text": [
      "100%|██████████| 393/393 [01:29<00:00,  4.38it/s]\n",
      "100%|██████████| 97/97 [00:30<00:00,  3.20it/s]\n",
      " 41%|████▏     | 58/140 [1:50:05<2:44:10, 120.13s/it]"
     ]
    },
    {
     "name": "stdout",
     "output_type": "stream",
     "text": [
      "Copying similar images for stock code 012330\n"
     ]
    },
    {
     "name": "stderr",
     "output_type": "stream",
     "text": [
      "100%|██████████| 393/393 [01:31<00:00,  4.30it/s]\n",
      "100%|██████████| 97/97 [00:30<00:00,  3.19it/s]\n",
      " 42%|████▏     | 59/140 [1:52:07<2:42:55, 120.68s/it]"
     ]
    },
    {
     "name": "stdout",
     "output_type": "stream",
     "text": [
      "Copying similar images for stock code 012450\n"
     ]
    },
    {
     "name": "stderr",
     "output_type": "stream",
     "text": [
      "100%|██████████| 393/393 [01:26<00:00,  4.56it/s]\n",
      "100%|██████████| 97/97 [00:29<00:00,  3.28it/s]\n",
      " 43%|████▎     | 60/140 [1:54:03<2:38:56, 119.21s/it]"
     ]
    },
    {
     "name": "stdout",
     "output_type": "stream",
     "text": [
      "Copying similar images for stock code 012750\n"
     ]
    },
    {
     "name": "stderr",
     "output_type": "stream",
     "text": [
      "100%|██████████| 393/393 [01:28<00:00,  4.45it/s]\n",
      "100%|██████████| 97/97 [00:29<00:00,  3.28it/s]\n",
      " 44%|████▎     | 61/140 [1:56:01<2:36:27, 118.83s/it]"
     ]
    },
    {
     "name": "stdout",
     "output_type": "stream",
     "text": [
      "Copying similar images for stock code 014680\n"
     ]
    },
    {
     "name": "stderr",
     "output_type": "stream",
     "text": [
      "100%|██████████| 393/393 [01:27<00:00,  4.52it/s]\n",
      "100%|██████████| 97/97 [00:30<00:00,  3.19it/s]\n",
      " 44%|████▍     | 62/140 [1:57:58<2:33:55, 118.40s/it]"
     ]
    },
    {
     "name": "stdout",
     "output_type": "stream",
     "text": [
      "Copying similar images for stock code 015760\n"
     ]
    },
    {
     "name": "stderr",
     "output_type": "stream",
     "text": [
      "100%|██████████| 393/393 [01:28<00:00,  4.45it/s]\n",
      "100%|██████████| 97/97 [00:30<00:00,  3.22it/s]\n",
      " 45%|████▌     | 63/140 [1:59:57<2:31:58, 118.43s/it]"
     ]
    },
    {
     "name": "stdout",
     "output_type": "stream",
     "text": [
      "Copying similar images for stock code 016360\n"
     ]
    },
    {
     "name": "stderr",
     "output_type": "stream",
     "text": [
      "100%|██████████| 393/393 [01:27<00:00,  4.49it/s]\n",
      "100%|██████████| 97/97 [00:29<00:00,  3.26it/s]\n",
      " 46%|████▌     | 64/140 [2:01:54<2:29:34, 118.09s/it]"
     ]
    },
    {
     "name": "stdout",
     "output_type": "stream",
     "text": [
      "Copying similar images for stock code 016710\n"
     ]
    },
    {
     "name": "stderr",
     "output_type": "stream",
     "text": [
      "100%|██████████| 393/393 [01:28<00:00,  4.45it/s]\n",
      "100%|██████████| 97/97 [00:29<00:00,  3.26it/s]\n",
      " 46%|████▋     | 65/140 [2:03:52<2:27:38, 118.11s/it]"
     ]
    },
    {
     "name": "stdout",
     "output_type": "stream",
     "text": [
      "Copying similar images for stock code 017390\n"
     ]
    },
    {
     "name": "stderr",
     "output_type": "stream",
     "text": [
      "100%|██████████| 393/393 [01:28<00:00,  4.46it/s]\n",
      "100%|██████████| 97/97 [00:29<00:00,  3.32it/s]\n",
      " 47%|████▋     | 66/140 [2:05:50<2:25:21, 117.86s/it]"
     ]
    },
    {
     "name": "stdout",
     "output_type": "stream",
     "text": [
      "Copying similar images for stock code 017670\n"
     ]
    },
    {
     "name": "stderr",
     "output_type": "stream",
     "text": [
      "100%|██████████| 393/393 [01:27<00:00,  4.51it/s]\n",
      "100%|██████████| 97/97 [00:29<00:00,  3.24it/s]\n",
      " 48%|████▊     | 67/140 [2:07:47<2:23:08, 117.65s/it]"
     ]
    },
    {
     "name": "stdout",
     "output_type": "stream",
     "text": [
      "Copying similar images for stock code 018260\n"
     ]
    },
    {
     "name": "stderr",
     "output_type": "stream",
     "text": [
      "100%|██████████| 301/301 [01:06<00:00,  4.50it/s]\n",
      "100%|██████████| 97/97 [00:26<00:00,  3.66it/s]\n",
      " 49%|████▊     | 68/140 [2:09:20<2:12:28, 110.40s/it]"
     ]
    },
    {
     "name": "stdout",
     "output_type": "stream",
     "text": [
      "Copying similar images for stock code 018880\n"
     ]
    },
    {
     "name": "stderr",
     "output_type": "stream",
     "text": [
      "100%|██████████| 393/393 [01:27<00:00,  4.49it/s]\n",
      "100%|██████████| 97/97 [00:29<00:00,  3.23it/s]\n",
      " 49%|████▉     | 69/140 [2:11:18<2:13:09, 112.52s/it]"
     ]
    },
    {
     "name": "stdout",
     "output_type": "stream",
     "text": [
      "Copying similar images for stock code 020150\n"
     ]
    },
    {
     "name": "stderr",
     "output_type": "stream",
     "text": [
      "100%|██████████| 393/393 [01:26<00:00,  4.57it/s]\n",
      "100%|██████████| 97/97 [00:29<00:00,  3.33it/s]\n",
      " 50%|█████     | 70/140 [2:13:13<2:12:12, 113.32s/it]"
     ]
    },
    {
     "name": "stdout",
     "output_type": "stream",
     "text": [
      "Copying similar images for stock code 021240\n"
     ]
    },
    {
     "name": "stderr",
     "output_type": "stream",
     "text": [
      "100%|██████████| 393/393 [01:26<00:00,  4.55it/s]\n",
      "100%|██████████| 97/97 [00:29<00:00,  3.31it/s]\n",
      " 51%|█████     | 71/140 [2:15:09<2:11:06, 114.01s/it]"
     ]
    },
    {
     "name": "stdout",
     "output_type": "stream",
     "text": [
      "Copying similar images for stock code 023530\n"
     ]
    },
    {
     "name": "stderr",
     "output_type": "stream",
     "text": [
      "100%|██████████| 393/393 [01:25<00:00,  4.58it/s]\n",
      "100%|██████████| 97/97 [00:29<00:00,  3.34it/s]\n",
      " 51%|█████▏    | 72/140 [2:17:03<2:09:30, 114.27s/it]"
     ]
    },
    {
     "name": "stdout",
     "output_type": "stream",
     "text": [
      "Copying similar images for stock code 024110\n"
     ]
    },
    {
     "name": "stderr",
     "output_type": "stream",
     "text": [
      "100%|██████████| 393/393 [01:26<00:00,  4.57it/s]\n",
      "100%|██████████| 97/97 [00:29<00:00,  3.31it/s]\n",
      " 52%|█████▏    | 73/140 [2:18:59<2:07:58, 114.60s/it]"
     ]
    },
    {
     "name": "stdout",
     "output_type": "stream",
     "text": [
      "Copying similar images for stock code 026960\n"
     ]
    },
    {
     "name": "stderr",
     "output_type": "stream",
     "text": [
      "100%|██████████| 393/393 [01:25<00:00,  4.60it/s]\n",
      "100%|██████████| 97/97 [00:28<00:00,  3.40it/s]\n",
      " 53%|█████▎    | 74/140 [2:20:53<2:05:49, 114.39s/it]"
     ]
    },
    {
     "name": "stdout",
     "output_type": "stream",
     "text": [
      "Copying similar images for stock code 028050\n"
     ]
    },
    {
     "name": "stderr",
     "output_type": "stream",
     "text": [
      "100%|██████████| 393/393 [01:26<00:00,  4.55it/s]\n",
      "100%|██████████| 97/97 [00:28<00:00,  3.37it/s]\n",
      " 54%|█████▎    | 75/140 [2:22:48<2:04:09, 114.61s/it]"
     ]
    },
    {
     "name": "stdout",
     "output_type": "stream",
     "text": [
      "Copying similar images for stock code 028260\n"
     ]
    },
    {
     "name": "stderr",
     "output_type": "stream",
     "text": [
      "100%|██████████| 296/296 [01:05<00:00,  4.50it/s]\n",
      "100%|██████████| 97/97 [00:25<00:00,  3.88it/s]\n",
      " 54%|█████▍    | 76/140 [2:24:19<1:54:37, 107.45s/it]"
     ]
    },
    {
     "name": "stdout",
     "output_type": "stream",
     "text": [
      "Copying similar images for stock code 028670\n"
     ]
    },
    {
     "name": "stderr",
     "output_type": "stream",
     "text": [
      "100%|██████████| 393/393 [01:27<00:00,  4.48it/s]\n",
      "100%|██████████| 97/97 [00:28<00:00,  3.36it/s]\n",
      " 55%|█████▌    | 77/140 [2:26:15<1:55:41, 110.18s/it]"
     ]
    },
    {
     "name": "stdout",
     "output_type": "stream",
     "text": [
      "Copying similar images for stock code 029780\n"
     ]
    },
    {
     "name": "stderr",
     "output_type": "stream",
     "text": [
      "100%|██████████| 393/393 [01:25<00:00,  4.62it/s]\n",
      "100%|██████████| 97/97 [00:27<00:00,  3.51it/s]\n",
      " 56%|█████▌    | 78/140 [2:28:08<1:54:40, 110.97s/it]"
     ]
    },
    {
     "name": "stdout",
     "output_type": "stream",
     "text": [
      "Copying similar images for stock code 030000\n"
     ]
    },
    {
     "name": "stderr",
     "output_type": "stream",
     "text": [
      "100%|██████████| 393/393 [01:23<00:00,  4.73it/s]\n",
      "100%|██████████| 97/97 [00:28<00:00,  3.45it/s]\n",
      " 56%|█████▋    | 79/140 [2:29:59<1:52:55, 111.08s/it]"
     ]
    },
    {
     "name": "stdout",
     "output_type": "stream",
     "text": [
      "Copying similar images for stock code 030200\n"
     ]
    },
    {
     "name": "stderr",
     "output_type": "stream",
     "text": [
      "100%|██████████| 393/393 [01:27<00:00,  4.48it/s]\n",
      "100%|██████████| 97/97 [00:28<00:00,  3.42it/s]\n",
      " 57%|█████▋    | 80/140 [2:31:55<1:52:36, 112.60s/it]"
     ]
    },
    {
     "name": "stdout",
     "output_type": "stream",
     "text": [
      "Copying similar images for stock code 032640\n"
     ]
    },
    {
     "name": "stderr",
     "output_type": "stream",
     "text": [
      "100%|██████████| 393/393 [01:27<00:00,  4.51it/s]\n",
      "100%|██████████| 97/97 [00:28<00:00,  3.39it/s]\n",
      " 58%|█████▊    | 81/140 [2:33:51<1:51:37, 113.52s/it]"
     ]
    },
    {
     "name": "stdout",
     "output_type": "stream",
     "text": [
      "Copying similar images for stock code 032830\n"
     ]
    },
    {
     "name": "stderr",
     "output_type": "stream",
     "text": [
      "100%|██████████| 393/393 [01:27<00:00,  4.48it/s]\n",
      "100%|██████████| 97/97 [00:28<00:00,  3.38it/s]\n",
      " 59%|█████▊    | 82/140 [2:35:48<1:50:36, 114.43s/it]"
     ]
    },
    {
     "name": "stdout",
     "output_type": "stream",
     "text": [
      "Copying similar images for stock code 033780\n"
     ]
    },
    {
     "name": "stderr",
     "output_type": "stream",
     "text": [
      "100%|██████████| 393/393 [01:24<00:00,  4.63it/s]\n",
      "100%|██████████| 97/97 [00:28<00:00,  3.39it/s]\n",
      " 59%|█████▉    | 83/140 [2:37:41<1:48:28, 114.18s/it]"
     ]
    },
    {
     "name": "stdout",
     "output_type": "stream",
     "text": [
      "Copying similar images for stock code 034020\n"
     ]
    },
    {
     "name": "stderr",
     "output_type": "stream",
     "text": [
      "100%|██████████| 393/393 [01:27<00:00,  4.48it/s]\n",
      "100%|██████████| 97/97 [00:28<00:00,  3.41it/s]\n",
      " 60%|██████    | 84/140 [2:39:37<1:47:08, 114.80s/it]"
     ]
    },
    {
     "name": "stdout",
     "output_type": "stream",
     "text": [
      "Copying similar images for stock code 034220\n"
     ]
    },
    {
     "name": "stderr",
     "output_type": "stream",
     "text": [
      "100%|██████████| 393/393 [01:27<00:00,  4.50it/s]\n",
      "100%|██████████| 97/97 [00:28<00:00,  3.42it/s]\n",
      " 61%|██████    | 85/140 [2:41:33<1:45:30, 115.10s/it]"
     ]
    },
    {
     "name": "stdout",
     "output_type": "stream",
     "text": [
      "Copying similar images for stock code 034730\n"
     ]
    },
    {
     "name": "stderr",
     "output_type": "stream",
     "text": [
      "100%|██████████| 393/393 [01:27<00:00,  4.51it/s]\n",
      "100%|██████████| 97/97 [00:28<00:00,  3.39it/s]\n",
      " 61%|██████▏   | 86/140 [2:43:29<1:43:46, 115.31s/it]"
     ]
    },
    {
     "name": "stdout",
     "output_type": "stream",
     "text": [
      "Copying similar images for stock code 035250\n"
     ]
    },
    {
     "name": "stderr",
     "output_type": "stream",
     "text": [
      "100%|██████████| 393/393 [01:27<00:00,  4.51it/s]\n",
      "100%|██████████| 97/97 [00:28<00:00,  3.37it/s]\n",
      " 62%|██████▏   | 87/140 [2:45:25<1:42:01, 115.51s/it]"
     ]
    },
    {
     "name": "stdout",
     "output_type": "stream",
     "text": [
      "Copying similar images for stock code 035420\n"
     ]
    },
    {
     "name": "stderr",
     "output_type": "stream",
     "text": [
      "100%|██████████| 393/393 [01:27<00:00,  4.49it/s]\n",
      "100%|██████████| 97/97 [00:28<00:00,  3.41it/s]\n",
      " 63%|██████▎   | 88/140 [2:47:21<1:40:14, 115.66s/it]"
     ]
    },
    {
     "name": "stdout",
     "output_type": "stream",
     "text": [
      "Copying similar images for stock code 035720\n"
     ]
    },
    {
     "name": "stderr",
     "output_type": "stream",
     "text": [
      "100%|██████████| 393/393 [01:26<00:00,  4.52it/s]\n",
      "100%|██████████| 97/97 [00:27<00:00,  3.47it/s]\n",
      " 64%|██████▎   | 89/140 [2:49:16<1:38:07, 115.44s/it]"
     ]
    },
    {
     "name": "stdout",
     "output_type": "stream",
     "text": [
      "Copying similar images for stock code 036460\n"
     ]
    },
    {
     "name": "stderr",
     "output_type": "stream",
     "text": [
      "100%|██████████| 393/393 [01:24<00:00,  4.66it/s]\n",
      "100%|██████████| 97/97 [00:28<00:00,  3.42it/s]\n",
      " 64%|██████▍   | 90/140 [2:51:09<1:35:31, 114.63s/it]"
     ]
    },
    {
     "name": "stdout",
     "output_type": "stream",
     "text": [
      "Copying similar images for stock code 036570\n"
     ]
    },
    {
     "name": "stderr",
     "output_type": "stream",
     "text": [
      "100%|██████████| 393/393 [01:27<00:00,  4.52it/s]\n",
      "100%|██████████| 97/97 [00:28<00:00,  3.43it/s]\n",
      " 65%|██████▌   | 91/140 [2:53:04<1:33:47, 114.85s/it]"
     ]
    },
    {
     "name": "stdout",
     "output_type": "stream",
     "text": [
      "Copying similar images for stock code 039490\n"
     ]
    },
    {
     "name": "stderr",
     "output_type": "stream",
     "text": [
      "100%|██████████| 393/393 [01:26<00:00,  4.54it/s]\n",
      "100%|██████████| 97/97 [00:28<00:00,  3.44it/s]\n",
      " 66%|██████▌   | 92/140 [2:54:59<1:31:53, 114.86s/it]"
     ]
    },
    {
     "name": "stdout",
     "output_type": "stream",
     "text": [
      "Copying similar images for stock code 042660\n"
     ]
    },
    {
     "name": "stderr",
     "output_type": "stream",
     "text": [
      "100%|██████████| 393/393 [01:25<00:00,  4.59it/s]\n",
      "100%|██████████| 97/97 [00:27<00:00,  3.49it/s]\n",
      " 66%|██████▋   | 93/140 [2:56:52<1:29:36, 114.40s/it]"
     ]
    },
    {
     "name": "stdout",
     "output_type": "stream",
     "text": [
      "Copying similar images for stock code 042670\n"
     ]
    },
    {
     "name": "stderr",
     "output_type": "stream",
     "text": [
      "100%|██████████| 393/393 [01:25<00:00,  4.62it/s]\n",
      "100%|██████████| 97/97 [00:28<00:00,  3.45it/s]\n",
      " 67%|██████▋   | 94/140 [2:58:45<1:27:24, 114.02s/it]"
     ]
    },
    {
     "name": "stdout",
     "output_type": "stream",
     "text": [
      "Copying similar images for stock code 047040\n"
     ]
    },
    {
     "name": "stderr",
     "output_type": "stream",
     "text": [
      "100%|██████████| 393/393 [01:26<00:00,  4.53it/s]\n",
      "100%|██████████| 97/97 [00:27<00:00,  3.46it/s]\n",
      " 68%|██████▊   | 95/140 [3:00:40<1:25:40, 114.24s/it]"
     ]
    },
    {
     "name": "stdout",
     "output_type": "stream",
     "text": [
      "Copying similar images for stock code 047050\n"
     ]
    },
    {
     "name": "stderr",
     "output_type": "stream",
     "text": [
      "100%|██████████| 393/393 [01:24<00:00,  4.63it/s]\n",
      "100%|██████████| 97/97 [00:28<00:00,  3.41it/s]\n",
      " 69%|██████▊   | 96/140 [3:02:34<1:23:36, 114.00s/it]"
     ]
    },
    {
     "name": "stdout",
     "output_type": "stream",
     "text": [
      "Copying similar images for stock code 047810\n"
     ]
    },
    {
     "name": "stderr",
     "output_type": "stream",
     "text": [
      "100%|██████████| 393/393 [01:26<00:00,  4.53it/s]\n",
      "100%|██████████| 97/97 [00:28<00:00,  3.42it/s]\n",
      " 69%|██████▉   | 97/140 [3:04:29<1:21:56, 114.33s/it]"
     ]
    },
    {
     "name": "stdout",
     "output_type": "stream",
     "text": [
      "Copying similar images for stock code 051900\n"
     ]
    },
    {
     "name": "stderr",
     "output_type": "stream",
     "text": [
      "100%|██████████| 393/393 [01:25<00:00,  4.61it/s]\n",
      "100%|██████████| 97/97 [00:27<00:00,  3.51it/s]\n",
      " 70%|███████   | 98/140 [3:06:22<1:19:45, 113.94s/it]"
     ]
    },
    {
     "name": "stdout",
     "output_type": "stream",
     "text": [
      "Copying similar images for stock code 051910\n"
     ]
    },
    {
     "name": "stderr",
     "output_type": "stream",
     "text": [
      "100%|██████████| 393/393 [01:27<00:00,  4.51it/s]\n",
      "100%|██████████| 97/97 [00:28<00:00,  3.42it/s]\n",
      " 71%|███████   | 99/140 [3:08:17<1:18:11, 114.43s/it]"
     ]
    },
    {
     "name": "stdout",
     "output_type": "stream",
     "text": [
      "Copying similar images for stock code 051915\n"
     ]
    },
    {
     "name": "stderr",
     "output_type": "stream",
     "text": [
      "100%|██████████| 393/393 [01:26<00:00,  4.52it/s]\n",
      "100%|██████████| 97/97 [00:28<00:00,  3.43it/s]\n",
      " 71%|███████▏  | 100/140 [3:10:13<1:16:26, 114.67s/it]"
     ]
    },
    {
     "name": "stdout",
     "output_type": "stream",
     "text": [
      "Copying similar images for stock code 052690\n"
     ]
    },
    {
     "name": "stderr",
     "output_type": "stream",
     "text": [
      "100%|██████████| 393/393 [01:26<00:00,  4.54it/s]\n",
      "100%|██████████| 97/97 [00:28<00:00,  3.43it/s]\n",
      " 72%|███████▏  | 101/140 [3:12:07<1:14:34, 114.74s/it]"
     ]
    },
    {
     "name": "stdout",
     "output_type": "stream",
     "text": [
      "Copying similar images for stock code 055550\n"
     ]
    },
    {
     "name": "stderr",
     "output_type": "stream",
     "text": [
      "100%|██████████| 393/393 [01:27<00:00,  4.51it/s]\n",
      "100%|██████████| 97/97 [00:28<00:00,  3.45it/s]\n",
      " 73%|███████▎  | 102/140 [3:14:03<1:12:46, 114.92s/it]"
     ]
    },
    {
     "name": "stdout",
     "output_type": "stream",
     "text": [
      "Copying similar images for stock code 064350\n"
     ]
    },
    {
     "name": "stderr",
     "output_type": "stream",
     "text": [
      "100%|██████████| 352/352 [01:17<00:00,  4.53it/s]\n",
      "100%|██████████| 97/97 [00:26<00:00,  3.67it/s]\n",
      " 74%|███████▎  | 103/140 [3:15:47<1:08:51, 111.67s/it]"
     ]
    },
    {
     "name": "stdout",
     "output_type": "stream",
     "text": [
      "Copying similar images for stock code 066570\n"
     ]
    },
    {
     "name": "stderr",
     "output_type": "stream",
     "text": [
      "100%|██████████| 393/393 [01:25<00:00,  4.59it/s]\n",
      "100%|██████████| 97/97 [00:28<00:00,  3.44it/s]\n",
      " 74%|███████▍  | 104/140 [3:17:41<1:07:23, 112.31s/it]"
     ]
    },
    {
     "name": "stdout",
     "output_type": "stream",
     "text": [
      "Copying similar images for stock code 068270\n"
     ]
    },
    {
     "name": "stderr",
     "output_type": "stream",
     "text": [
      "100%|██████████| 393/393 [01:27<00:00,  4.51it/s]\n",
      "100%|██████████| 97/97 [00:28<00:00,  3.45it/s]\n",
      " 75%|███████▌  | 105/140 [3:19:36<1:06:01, 113.18s/it]"
     ]
    },
    {
     "name": "stdout",
     "output_type": "stream",
     "text": [
      "Copying similar images for stock code 069620\n"
     ]
    },
    {
     "name": "stderr",
     "output_type": "stream",
     "text": [
      "100%|██████████| 393/393 [01:27<00:00,  4.51it/s]\n",
      "100%|██████████| 97/97 [00:28<00:00,  3.44it/s]\n",
      " 76%|███████▌  | 106/140 [3:21:31<1:04:30, 113.83s/it]"
     ]
    },
    {
     "name": "stdout",
     "output_type": "stream",
     "text": [
      "Copying similar images for stock code 071050\n"
     ]
    },
    {
     "name": "stderr",
     "output_type": "stream",
     "text": [
      "100%|██████████| 393/393 [01:26<00:00,  4.53it/s]\n",
      "100%|██████████| 97/97 [00:28<00:00,  3.41it/s]\n",
      " 76%|███████▋  | 107/140 [3:23:27<1:02:51, 114.28s/it]"
     ]
    },
    {
     "name": "stdout",
     "output_type": "stream",
     "text": [
      "Copying similar images for stock code 078930\n"
     ]
    },
    {
     "name": "stderr",
     "output_type": "stream",
     "text": [
      "100%|██████████| 393/393 [01:26<00:00,  4.52it/s]\n",
      "100%|██████████| 97/97 [00:28<00:00,  3.43it/s]\n",
      " 77%|███████▋  | 108/140 [3:25:22<1:01:06, 114.58s/it]"
     ]
    },
    {
     "name": "stdout",
     "output_type": "stream",
     "text": [
      "Copying similar images for stock code 079550\n"
     ]
    },
    {
     "name": "stderr",
     "output_type": "stream",
     "text": [
      "100%|██████████| 257/257 [00:56<00:00,  4.52it/s]\n",
      "100%|██████████| 97/97 [00:23<00:00,  4.15it/s]\n",
      " 78%|███████▊  | 109/140 [3:26:42<53:52, 104.27s/it]  "
     ]
    },
    {
     "name": "stdout",
     "output_type": "stream",
     "text": [
      "Copying similar images for stock code 081660\n"
     ]
    },
    {
     "name": "stderr",
     "output_type": "stream",
     "text": [
      "100%|██████████| 393/393 [01:27<00:00,  4.49it/s]\n",
      "100%|██████████| 97/97 [00:28<00:00,  3.42it/s]\n",
      " 79%|███████▊  | 110/140 [3:28:38<53:53, 107.78s/it]"
     ]
    },
    {
     "name": "stdout",
     "output_type": "stream",
     "text": [
      "Copying similar images for stock code 086280\n"
     ]
    },
    {
     "name": "stderr",
     "output_type": "stream",
     "text": [
      "100%|██████████| 393/393 [01:25<00:00,  4.60it/s]\n",
      "100%|██████████| 97/97 [00:27<00:00,  3.49it/s]\n",
      " 79%|███████▉  | 111/140 [3:30:31<52:53, 109.43s/it]"
     ]
    },
    {
     "name": "stdout",
     "output_type": "stream",
     "text": [
      "Copying similar images for stock code 086790\n"
     ]
    },
    {
     "name": "stderr",
     "output_type": "stream",
     "text": [
      "100%|██████████| 393/393 [01:27<00:00,  4.51it/s]\n",
      "100%|██████████| 97/97 [00:28<00:00,  3.40it/s]\n",
      " 80%|████████  | 112/140 [3:32:27<51:56, 111.31s/it]"
     ]
    },
    {
     "name": "stdout",
     "output_type": "stream",
     "text": [
      "Copying similar images for stock code 088350\n"
     ]
    },
    {
     "name": "stderr",
     "output_type": "stream",
     "text": [
      "100%|██████████| 393/393 [01:24<00:00,  4.64it/s]\n",
      "100%|██████████| 97/97 [00:28<00:00,  3.43it/s]\n",
      " 81%|████████  | 113/140 [3:34:20<50:19, 111.83s/it]"
     ]
    },
    {
     "name": "stdout",
     "output_type": "stream",
     "text": [
      "Copying similar images for stock code 088980\n"
     ]
    },
    {
     "name": "stderr",
     "output_type": "stream",
     "text": [
      "100%|██████████| 393/393 [01:27<00:00,  4.50it/s]\n",
      "100%|██████████| 97/97 [00:28<00:00,  3.40it/s]\n",
      " 81%|████████▏ | 114/140 [3:36:16<48:58, 113.02s/it]"
     ]
    },
    {
     "name": "stdout",
     "output_type": "stream",
     "text": [
      "Copying similar images for stock code 090430\n"
     ]
    },
    {
     "name": "stderr",
     "output_type": "stream",
     "text": [
      "100%|██████████| 393/393 [01:26<00:00,  4.52it/s]\n",
      "100%|██████████| 97/97 [00:28<00:00,  3.45it/s]\n",
      " 82%|████████▏ | 115/140 [3:38:11<47:20, 113.64s/it]"
     ]
    },
    {
     "name": "stdout",
     "output_type": "stream",
     "text": [
      "Copying similar images for stock code 096770\n"
     ]
    },
    {
     "name": "stderr",
     "output_type": "stream",
     "text": [
      "100%|██████████| 393/393 [01:26<00:00,  4.52it/s]\n",
      "100%|██████████| 97/97 [00:29<00:00,  3.33it/s]\n",
      " 83%|████████▎ | 116/140 [3:40:07<45:45, 114.40s/it]"
     ]
    },
    {
     "name": "stdout",
     "output_type": "stream",
     "text": [
      "Copying similar images for stock code 097950\n"
     ]
    },
    {
     "name": "stderr",
     "output_type": "stream",
     "text": [
      "100%|██████████| 393/393 [01:28<00:00,  4.45it/s]\n",
      "100%|██████████| 97/97 [00:29<00:00,  3.30it/s]\n",
      " 84%|████████▎ | 117/140 [3:42:05<44:14, 115.41s/it]"
     ]
    },
    {
     "name": "stdout",
     "output_type": "stream",
     "text": [
      "Copying similar images for stock code 105560\n"
     ]
    },
    {
     "name": "stderr",
     "output_type": "stream",
     "text": [
      "100%|██████████| 393/393 [01:28<00:00,  4.45it/s]\n",
      "100%|██████████| 97/97 [00:29<00:00,  3.26it/s]\n",
      " 84%|████████▍ | 118/140 [3:44:03<42:36, 116.21s/it]"
     ]
    },
    {
     "name": "stdout",
     "output_type": "stream",
     "text": [
      "Copying similar images for stock code 111770\n"
     ]
    },
    {
     "name": "stderr",
     "output_type": "stream",
     "text": [
      "100%|██████████| 393/393 [01:26<00:00,  4.55it/s]\n",
      "100%|██████████| 97/97 [00:29<00:00,  3.31it/s]\n",
      " 85%|████████▌ | 119/140 [3:45:59<40:36, 116.03s/it]"
     ]
    },
    {
     "name": "stdout",
     "output_type": "stream",
     "text": [
      "Copying similar images for stock code 112610\n"
     ]
    },
    {
     "name": "stderr",
     "output_type": "stream",
     "text": [
      "100%|██████████| 299/299 [01:04<00:00,  4.61it/s]\n",
      "100%|██████████| 97/97 [00:26<00:00,  3.72it/s]\n",
      " 86%|████████▌ | 120/140 [3:47:30<36:10, 108.50s/it]"
     ]
    },
    {
     "name": "stdout",
     "output_type": "stream",
     "text": [
      "Copying similar images for stock code 128940\n"
     ]
    },
    {
     "name": "stderr",
     "output_type": "stream",
     "text": [
      "100%|██████████| 393/393 [01:29<00:00,  4.37it/s]\n",
      "100%|██████████| 97/97 [00:30<00:00,  3.20it/s]\n",
      " 86%|████████▋ | 121/140 [3:49:30<35:29, 112.05s/it]"
     ]
    },
    {
     "name": "stdout",
     "output_type": "stream",
     "text": [
      "Copying similar images for stock code 138040\n"
     ]
    },
    {
     "name": "stderr",
     "output_type": "stream",
     "text": [
      "100%|██████████| 393/393 [01:33<00:00,  4.21it/s]\n",
      "100%|██████████| 97/97 [00:29<00:00,  3.25it/s]\n",
      " 87%|████████▋ | 122/140 [3:51:33<34:37, 115.41s/it]"
     ]
    },
    {
     "name": "stdout",
     "output_type": "stream",
     "text": [
      "Copying similar images for stock code 138930\n"
     ]
    },
    {
     "name": "stderr",
     "output_type": "stream",
     "text": [
      "100%|██████████| 393/393 [01:31<00:00,  4.29it/s]\n",
      "100%|██████████| 97/97 [00:30<00:00,  3.16it/s]\n",
      " 88%|████████▊ | 123/140 [3:53:35<33:17, 117.49s/it]"
     ]
    },
    {
     "name": "stdout",
     "output_type": "stream",
     "text": [
      "Copying similar images for stock code 139480\n"
     ]
    },
    {
     "name": "stderr",
     "output_type": "stream",
     "text": [
      "100%|██████████| 393/393 [01:26<00:00,  4.53it/s]\n",
      "100%|██████████| 97/97 [00:29<00:00,  3.32it/s]\n",
      " 89%|████████▊ | 124/140 [3:55:31<31:12, 117.05s/it]"
     ]
    },
    {
     "name": "stdout",
     "output_type": "stream",
     "text": [
      "Copying similar images for stock code 161390\n"
     ]
    },
    {
     "name": "stderr",
     "output_type": "stream",
     "text": [
      "100%|██████████| 393/393 [01:26<00:00,  4.55it/s]\n",
      "100%|██████████| 97/97 [00:29<00:00,  3.32it/s]\n",
      " 89%|████████▉ | 125/140 [3:57:27<29:08, 116.60s/it]"
     ]
    },
    {
     "name": "stdout",
     "output_type": "stream",
     "text": [
      "Copying similar images for stock code 175330\n"
     ]
    },
    {
     "name": "stderr",
     "output_type": "stream",
     "text": [
      "100%|██████████| 365/365 [01:20<00:00,  4.56it/s]\n",
      "100%|██████████| 97/97 [00:28<00:00,  3.44it/s]\n",
      " 90%|█████████ | 126/140 [3:59:15<26:37, 114.11s/it]"
     ]
    },
    {
     "name": "stdout",
     "output_type": "stream",
     "text": [
      "Copying similar images for stock code 180640\n"
     ]
    },
    {
     "name": "stderr",
     "output_type": "stream",
     "text": [
      "100%|██████████| 357/357 [01:20<00:00,  4.45it/s]\n",
      "100%|██████████| 97/97 [00:27<00:00,  3.48it/s]\n",
      " 91%|█████████ | 127/140 [4:01:03<24:20, 112.31s/it]"
     ]
    },
    {
     "name": "stdout",
     "output_type": "stream",
     "text": [
      "Copying similar images for stock code 204320\n"
     ]
    },
    {
     "name": "stderr",
     "output_type": "stream",
     "text": [
      "100%|██████████| 306/306 [01:09<00:00,  4.43it/s]\n",
      "100%|██████████| 97/97 [00:26<00:00,  3.64it/s]\n",
      " 91%|█████████▏| 128/140 [4:02:39<21:28, 107.35s/it]"
     ]
    },
    {
     "name": "stdout",
     "output_type": "stream",
     "text": [
      "Copying similar images for stock code 207940\n"
     ]
    },
    {
     "name": "stderr",
     "output_type": "stream",
     "text": [
      "100%|██████████| 203/203 [00:45<00:00,  4.49it/s]\n",
      "100%|██████████| 97/97 [00:22<00:00,  4.40it/s]\n",
      " 92%|█████████▏| 129/140 [4:03:46<17:28, 95.31s/it] "
     ]
    },
    {
     "name": "stdout",
     "output_type": "stream",
     "text": [
      "Copying similar images for stock code 241560\n"
     ]
    },
    {
     "name": "stderr",
     "output_type": "stream",
     "text": [
      "100%|██████████| 201/201 [00:43<00:00,  4.59it/s]\n",
      "100%|██████████| 97/97 [00:21<00:00,  4.53it/s]\n",
      " 93%|█████████▎| 130/140 [4:04:52<14:22, 86.27s/it]"
     ]
    },
    {
     "name": "stdout",
     "output_type": "stream",
     "text": [
      "Copying similar images for stock code 251270\n"
     ]
    },
    {
     "name": "stderr",
     "output_type": "stream",
     "text": [
      "100%|██████████| 178/178 [00:39<00:00,  4.55it/s]\n",
      "100%|██████████| 97/97 [00:21<00:00,  4.49it/s]\n",
      " 94%|█████████▎| 131/140 [4:05:52<11:47, 78.61s/it]"
     ]
    },
    {
     "name": "stdout",
     "output_type": "stream",
     "text": [
      "Copying similar images for stock code 267250\n"
     ]
    },
    {
     "name": "stderr",
     "output_type": "stream",
     "text": [
      "100%|██████████| 178/178 [00:40<00:00,  4.35it/s]\n",
      "100%|██████████| 97/97 [00:21<00:00,  4.47it/s]\n",
      " 94%|█████████▍| 132/140 [4:06:55<09:50, 73.82s/it]"
     ]
    },
    {
     "name": "stdout",
     "output_type": "stream",
     "text": [
      "Copying similar images for stock code 271560\n"
     ]
    },
    {
     "name": "stderr",
     "output_type": "stream",
     "text": [
      "100%|██████████| 170/170 [00:37<00:00,  4.51it/s]\n",
      "100%|██████████| 97/97 [00:20<00:00,  4.66it/s]\n",
      " 95%|█████████▌| 133/140 [4:07:54<08:04, 69.24s/it]"
     ]
    },
    {
     "name": "stdout",
     "output_type": "stream",
     "text": [
      "Copying similar images for stock code 272210\n"
     ]
    },
    {
     "name": "stderr",
     "output_type": "stream",
     "text": [
      "100%|██████████| 55/55 [00:12<00:00,  4.47it/s]\n",
      "100%|██████████| 97/97 [00:17<00:00,  5.67it/s]\n",
      " 96%|█████████▌| 134/140 [4:08:23<05:43, 57.29s/it]"
     ]
    },
    {
     "name": "stdout",
     "output_type": "stream",
     "text": [
      "Copying similar images for stock code 282330\n"
     ]
    },
    {
     "name": "stderr",
     "output_type": "stream",
     "text": [
      "100%|██████████| 150/150 [00:33<00:00,  4.45it/s]\n",
      "100%|██████████| 97/97 [00:20<00:00,  4.84it/s]\n",
      " 96%|█████████▋| 135/140 [4:09:17<04:41, 56.24s/it]"
     ]
    },
    {
     "name": "stdout",
     "output_type": "stream",
     "text": [
      "Copying similar images for stock code 307950\n"
     ]
    },
    {
     "name": "stderr",
     "output_type": "stream",
     "text": [
      "100%|██████████| 87/87 [00:19<00:00,  4.55it/s]\n",
      "100%|██████████| 97/97 [00:17<00:00,  5.54it/s]\n",
      " 97%|█████████▋| 136/140 [4:09:53<03:21, 50.37s/it]"
     ]
    },
    {
     "name": "stdout",
     "output_type": "stream",
     "text": [
      "Copying similar images for stock code 316140\n"
     ]
    },
    {
     "name": "stderr",
     "output_type": "stream",
     "text": [
      "100%|██████████| 93/93 [00:20<00:00,  4.55it/s]\n",
      "100%|██████████| 97/97 [00:17<00:00,  5.41it/s]\n",
      " 98%|█████████▊| 137/140 [4:10:32<02:20, 46.77s/it]"
     ]
    },
    {
     "name": "stdout",
     "output_type": "stream",
     "text": [
      "Copying similar images for stock code 326030\n"
     ]
    },
    {
     "name": "stderr",
     "output_type": "stream",
     "text": [
      "100%|██████████| 24/24 [00:05<00:00,  4.48it/s]\n",
      "100%|██████████| 97/97 [00:15<00:00,  6.18it/s]\n",
      " 99%|█████████▊| 138/140 [4:10:53<01:18, 39.06s/it]"
     ]
    },
    {
     "name": "stdout",
     "output_type": "stream",
     "text": [
      "Copying similar images for stock code 336260\n"
     ]
    },
    {
     "name": "stderr",
     "output_type": "stream",
     "text": [
      "100%|██████████| 59/59 [00:12<00:00,  4.62it/s]\n",
      "100%|██████████| 97/97 [00:16<00:00,  5.80it/s]\n",
      " 99%|█████████▉| 139/140 [4:11:22<00:36, 36.19s/it]"
     ]
    },
    {
     "name": "stdout",
     "output_type": "stream",
     "text": [
      "Copying similar images for stock code 352820\n"
     ]
    },
    {
     "name": "stderr",
     "output_type": "stream",
     "text": [
      "100%|██████████| 10/10 [00:02<00:00,  4.37it/s]\n",
      "100%|██████████| 97/97 [00:13<00:00,  6.95it/s]\n",
      "100%|██████████| 140/140 [4:11:39<00:00, 107.85s/it]\n"
     ]
    }
   ],
   "source": [
    "# 각 종목에 대해 수행\n",
    "for stock_code in tqdm(os.listdir(train_root_path)):\n",
    "    print(f\"Copying similar images for stock code {stock_code}\")\n",
    "        \n",
    "    train_path = os.path.join(train_root_path, stock_code)\n",
    "    test_path = os.path.join(test_root_path, stock_code)\n",
    "    \n",
    "    # train 이미지들의 피처를 추출합니다.\n",
    "    train_features = {}\n",
    "    train_directions = {}\n",
    "    for img_name in tqdm(os.listdir(train_path)):\n",
    "        try:\n",
    "            img_path = os.path.join(train_path, img_name)\n",
    "            img = load_img(img_path, target_size=(224, 224))\n",
    "            img_array = img_to_array(img)\n",
    "            img_array = preprocess_input(img_array)\n",
    "            features = model.predict(np.array([img_array]))\n",
    "            train_features[img_name] = features.flatten()\n",
    "        \n",
    "            img_direction_path = os.path.join(f\"./img_without_vol_10/train_moving/{stock_code}/\", img_name[:-4] + \"_moving.png\")\n",
    "            img_direction = load_img(img_direction_path, target_size=(224, 224))\n",
    "            img_direction_array = img_to_array(img_direction)\n",
    "            img_direction_array = preprocess_input(img_direction_array)\n",
    "            directions = model.predict(np.array([img_direction_array]))\n",
    "            train_directions[img_name] = directions.flatten()\n",
    "        except:\n",
    "            continue\n",
    "\n",
    "    # 각각의 test 이미지마다 유사한 train 이미지를 찾아 해당 디렉토리에 복사합니다.\n",
    "    for test_img_name in tqdm(os.listdir(test_path)):\n",
    "        try:\n",
    "            test_img_path = os.path.join(test_path, test_img_name)\n",
    "            test_img = load_img(test_img_path, target_size=(224, 224))\n",
    "            test_img_array = img_to_array(test_img)\n",
    "            test_img_array = preprocess_input(test_img_array)\n",
    "            test_features = model.predict(np.array([test_img_array]))\n",
    "            similarities = {}\n",
    "            for train_img_name, train_feature in train_features.items():\n",
    "                similarity = cosine_similarity(np.array([test_features.flatten()]), np.array([train_feature]))\n",
    "                similarities[train_img_name] = similarity\n",
    "            # 코사인 유사도가 높은 상위 10개의 train 이미지를 선택합니다.\n",
    "            top_10_similar_images = sorted(similarities.items(), key=lambda x: x[1], reverse=True)[:15]\n",
    "            # test 이미지와 유사한 train 이미지들을 저장할 디렉토리를 생성합니다.\n",
    "            similar_images_dir = os.path.join(test_path, os.path.splitext(test_img_name)[0])\n",
    "            os.makedirs(similar_images_dir, exist_ok=True)\n",
    "            # 상위 10개의 유사한 train 이미지를 해당 디렉토리에 복사합니다.\n",
    "            for train_img_name, _ in top_10_similar_images:\n",
    "                train_img_path = os.path.join(f\"./img_without_vol_10/train/{stock_code}/\", train_img_name)\n",
    "                train_img_direction_path = os.path.join(f\"./img_without_vol_10/train_moving/{stock_code}/\", train_img_name[:-4] + \"_moving.png\")\n",
    "                shutil.copy2(train_img_path, similar_images_dir)\n",
    "                shutil.copy2(train_img_direction_path, similar_images_dir)\n",
    "        except:\n",
    "            continue"
   ]
  },
  {
   "attachments": {},
   "cell_type": "markdown",
   "metadata": {},
   "source": [
    "# 전체 종목에 대해 진행 거래량 bar O"
   ]
  },
  {
   "cell_type": "code",
   "execution_count": 3,
   "metadata": {},
   "outputs": [],
   "source": [
    "# VGG16 모델을 불러옵니다.\n",
    "model = VGG16(weights='imagenet', include_top=False)"
   ]
  },
  {
   "cell_type": "code",
   "execution_count": 6,
   "metadata": {},
   "outputs": [],
   "source": [
    "# train, test 이미지 경로 지정\n",
    "train_root_path = \"./img_with_vol_10/train\"\n",
    "test_root_path = \"./img_with_vol_10/test/\""
   ]
  },
  {
   "cell_type": "code",
   "execution_count": 8,
   "metadata": {},
   "outputs": [
    {
     "name": "stderr",
     "output_type": "stream",
     "text": [
      "  0%|          | 0/140 [00:00<?, ?it/s]"
     ]
    },
    {
     "name": "stdout",
     "output_type": "stream",
     "text": [
      "Copying similar images for stock code 000060\n"
     ]
    },
    {
     "name": "stderr",
     "output_type": "stream",
     "text": [
      "100%|██████████| 393/393 [01:24<00:00,  4.62it/s]\n",
      "100%|██████████| 194/194 [00:28<00:00,  6.85it/s]\n",
      "  1%|          | 1/140 [01:53<4:22:29, 113.31s/it]"
     ]
    },
    {
     "name": "stdout",
     "output_type": "stream",
     "text": [
      "Copying similar images for stock code 000080\n"
     ]
    },
    {
     "name": "stderr",
     "output_type": "stream",
     "text": [
      "100%|██████████| 393/393 [01:24<00:00,  4.63it/s]\n",
      "100%|██████████| 194/194 [00:29<00:00,  6.49it/s]\n",
      "  1%|▏         | 2/140 [03:48<4:22:36, 114.18s/it]"
     ]
    },
    {
     "name": "stdout",
     "output_type": "stream",
     "text": [
      "Copying similar images for stock code 000100\n"
     ]
    },
    {
     "name": "stderr",
     "output_type": "stream",
     "text": [
      "100%|██████████| 393/393 [01:24<00:00,  4.67it/s]\n",
      "100%|██████████| 194/194 [00:30<00:00,  6.37it/s]\n",
      "  2%|▏         | 3/140 [05:42<4:21:12, 114.40s/it]"
     ]
    },
    {
     "name": "stdout",
     "output_type": "stream",
     "text": [
      "Copying similar images for stock code 000120\n"
     ]
    },
    {
     "name": "stderr",
     "output_type": "stream",
     "text": [
      "100%|██████████| 393/393 [01:24<00:00,  4.62it/s]\n",
      "100%|██████████| 194/194 [00:30<00:00,  6.39it/s]\n",
      "  3%|▎         | 4/140 [07:38<4:20:09, 114.77s/it]"
     ]
    },
    {
     "name": "stdout",
     "output_type": "stream",
     "text": [
      "Copying similar images for stock code 000270\n"
     ]
    },
    {
     "name": "stderr",
     "output_type": "stream",
     "text": [
      "100%|██████████| 393/393 [01:25<00:00,  4.61it/s]\n",
      "100%|██████████| 194/194 [00:30<00:00,  6.29it/s]\n",
      "  4%|▎         | 5/140 [09:34<4:19:16, 115.23s/it]"
     ]
    },
    {
     "name": "stdout",
     "output_type": "stream",
     "text": [
      "Copying similar images for stock code 000660\n"
     ]
    },
    {
     "name": "stderr",
     "output_type": "stream",
     "text": [
      "100%|██████████| 393/393 [01:26<00:00,  4.54it/s]\n",
      "100%|██████████| 194/194 [00:30<00:00,  6.44it/s]\n",
      "  4%|▍         | 6/140 [11:30<4:18:30, 115.75s/it]"
     ]
    },
    {
     "name": "stdout",
     "output_type": "stream",
     "text": [
      "Copying similar images for stock code 000720\n"
     ]
    },
    {
     "name": "stderr",
     "output_type": "stream",
     "text": [
      "100%|██████████| 393/393 [01:24<00:00,  4.64it/s]\n",
      "100%|██████████| 194/194 [00:31<00:00,  6.23it/s]\n",
      "  5%|▌         | 7/140 [13:26<4:16:43, 115.81s/it]"
     ]
    },
    {
     "name": "stdout",
     "output_type": "stream",
     "text": [
      "Copying similar images for stock code 000810\n"
     ]
    },
    {
     "name": "stderr",
     "output_type": "stream",
     "text": [
      "100%|██████████| 393/393 [01:26<00:00,  4.56it/s]\n",
      "100%|██████████| 194/194 [00:30<00:00,  6.30it/s]\n",
      "  6%|▌         | 8/140 [15:23<4:15:37, 116.19s/it]"
     ]
    },
    {
     "name": "stdout",
     "output_type": "stream",
     "text": [
      "Copying similar images for stock code 000880\n"
     ]
    },
    {
     "name": "stderr",
     "output_type": "stream",
     "text": [
      "100%|██████████| 393/393 [01:25<00:00,  4.60it/s]\n",
      "100%|██████████| 194/194 [00:31<00:00,  6.25it/s]\n",
      "  6%|▋         | 9/140 [17:20<4:13:57, 116.32s/it]"
     ]
    },
    {
     "name": "stdout",
     "output_type": "stream",
     "text": [
      "Copying similar images for stock code 000990\n"
     ]
    },
    {
     "name": "stderr",
     "output_type": "stream",
     "text": [
      "100%|██████████| 393/393 [01:27<00:00,  4.49it/s]\n",
      "100%|██████████| 194/194 [00:31<00:00,  6.25it/s]\n",
      "  7%|▋         | 10/140 [19:19<4:13:36, 117.05s/it]"
     ]
    },
    {
     "name": "stdout",
     "output_type": "stream",
     "text": [
      "Copying similar images for stock code 001040\n"
     ]
    },
    {
     "name": "stderr",
     "output_type": "stream",
     "text": [
      "100%|██████████| 393/393 [01:23<00:00,  4.72it/s]\n",
      "100%|██████████| 194/194 [00:30<00:00,  6.38it/s]\n",
      "  8%|▊         | 11/140 [21:12<4:09:27, 116.03s/it]"
     ]
    },
    {
     "name": "stdout",
     "output_type": "stream",
     "text": [
      "Copying similar images for stock code 001440\n"
     ]
    },
    {
     "name": "stderr",
     "output_type": "stream",
     "text": [
      "100%|██████████| 393/393 [01:26<00:00,  4.56it/s]\n",
      "100%|██████████| 194/194 [00:30<00:00,  6.42it/s]\n",
      "  9%|▊         | 12/140 [23:09<4:07:50, 116.17s/it]"
     ]
    },
    {
     "name": "stdout",
     "output_type": "stream",
     "text": [
      "Copying similar images for stock code 001450\n"
     ]
    },
    {
     "name": "stderr",
     "output_type": "stream",
     "text": [
      "100%|██████████| 393/393 [01:25<00:00,  4.58it/s]\n",
      "100%|██████████| 194/194 [00:30<00:00,  6.31it/s]\n",
      "  9%|▉         | 13/140 [25:05<4:06:09, 116.30s/it]"
     ]
    },
    {
     "name": "stdout",
     "output_type": "stream",
     "text": [
      "Copying similar images for stock code 002380\n"
     ]
    },
    {
     "name": "stderr",
     "output_type": "stream",
     "text": [
      "100%|██████████| 393/393 [01:25<00:00,  4.59it/s]\n",
      "100%|██████████| 194/194 [00:30<00:00,  6.34it/s]\n",
      " 10%|█         | 14/140 [27:02<4:04:14, 116.31s/it]"
     ]
    },
    {
     "name": "stdout",
     "output_type": "stream",
     "text": [
      "Copying similar images for stock code 002790\n"
     ]
    },
    {
     "name": "stderr",
     "output_type": "stream",
     "text": [
      "100%|██████████| 393/393 [01:25<00:00,  4.57it/s]\n",
      "100%|██████████| 194/194 [00:30<00:00,  6.39it/s]\n",
      " 11%|█         | 15/140 [28:58<4:02:18, 116.31s/it]"
     ]
    },
    {
     "name": "stdout",
     "output_type": "stream",
     "text": [
      "Copying similar images for stock code 003410\n"
     ]
    },
    {
     "name": "stderr",
     "output_type": "stream",
     "text": [
      "100%|██████████| 393/393 [01:30<00:00,  4.35it/s]\n",
      "100%|██████████| 194/194 [00:31<00:00,  6.21it/s]\n",
      " 11%|█▏        | 16/140 [31:00<4:03:38, 117.89s/it]"
     ]
    },
    {
     "name": "stdout",
     "output_type": "stream",
     "text": [
      "Copying similar images for stock code 003490\n"
     ]
    },
    {
     "name": "stderr",
     "output_type": "stream",
     "text": [
      "100%|██████████| 393/393 [01:30<00:00,  4.33it/s]\n",
      "100%|██████████| 194/194 [00:30<00:00,  6.27it/s]\n",
      " 12%|█▏        | 17/140 [33:01<4:04:01, 119.03s/it]"
     ]
    },
    {
     "name": "stdout",
     "output_type": "stream",
     "text": [
      "Copying similar images for stock code 003550\n"
     ]
    },
    {
     "name": "stderr",
     "output_type": "stream",
     "text": [
      "100%|██████████| 393/393 [01:27<00:00,  4.52it/s]\n",
      "100%|██████████| 194/194 [00:30<00:00,  6.27it/s]\n",
      " 13%|█▎        | 18/140 [34:59<4:01:22, 118.71s/it]"
     ]
    },
    {
     "name": "stdout",
     "output_type": "stream",
     "text": [
      "Copying similar images for stock code 003670\n"
     ]
    },
    {
     "name": "stderr",
     "output_type": "stream",
     "text": [
      "100%|██████████| 393/393 [01:26<00:00,  4.53it/s]\n",
      "100%|██████████| 194/194 [00:30<00:00,  6.32it/s]\n",
      " 14%|█▎        | 19/140 [36:57<3:58:35, 118.31s/it]"
     ]
    },
    {
     "name": "stdout",
     "output_type": "stream",
     "text": [
      "Copying similar images for stock code 004020\n"
     ]
    },
    {
     "name": "stderr",
     "output_type": "stream",
     "text": [
      "100%|██████████| 393/393 [01:28<00:00,  4.43it/s]\n",
      "100%|██████████| 194/194 [00:31<00:00,  6.14it/s]\n",
      " 14%|█▍        | 20/140 [38:57<3:57:53, 118.94s/it]"
     ]
    },
    {
     "name": "stdout",
     "output_type": "stream",
     "text": [
      "Copying similar images for stock code 004170\n"
     ]
    },
    {
     "name": "stderr",
     "output_type": "stream",
     "text": [
      "100%|██████████| 393/393 [01:28<00:00,  4.43it/s]\n",
      "100%|██████████| 194/194 [00:32<00:00,  5.95it/s]\n",
      " 15%|█▌        | 21/140 [40:58<3:57:20, 119.67s/it]"
     ]
    },
    {
     "name": "stdout",
     "output_type": "stream",
     "text": [
      "Copying similar images for stock code 004370\n"
     ]
    },
    {
     "name": "stderr",
     "output_type": "stream",
     "text": [
      "100%|██████████| 393/393 [01:26<00:00,  4.56it/s]\n",
      "100%|██████████| 194/194 [00:30<00:00,  6.39it/s]\n",
      " 16%|█▌        | 22/140 [42:55<3:53:30, 118.73s/it]"
     ]
    },
    {
     "name": "stdout",
     "output_type": "stream",
     "text": [
      "Copying similar images for stock code 004690\n"
     ]
    },
    {
     "name": "stderr",
     "output_type": "stream",
     "text": []
    },
    {
     "ename": "",
     "evalue": "",
     "output_type": "error",
     "traceback": [
      "\u001b[1;31mCanceled future for execute_request message before replies were done"
     ]
    },
    {
     "ename": "",
     "evalue": "",
     "output_type": "error",
     "traceback": [
      "\u001b[1;31m현재 셀 또는 이전 셀에서 코드를 실행하는 동안 Kernel이 충돌했습니다. 셀의 코드를 검토하여 오류의 가능한 원인을 식별하세요. 자세한 내용을 보려면 <a href='https://aka.ms/vscodeJupyterKernelCrash'> 여기 </a> 를 클릭하세요. 자세한 내용은 Jupyter <a href='command:jupyter.viewOutput'>로그</a>를 참조하세요."
     ]
    }
   ],
   "source": [
    "# 각 종목에 대해 수행\n",
    "for stock_code in tqdm(os.listdir(train_root_path)):\n",
    "    print(f\"Copying similar images for stock code {stock_code}\")\n",
    "        \n",
    "    train_path = os.path.join(train_root_path, stock_code)\n",
    "    test_path = os.path.join(test_root_path, stock_code)\n",
    "    \n",
    "    # train 이미지들의 피처를 추출합니다.\n",
    "    train_features = {}\n",
    "    train_directions = {}\n",
    "    for img_name in tqdm(os.listdir(train_path)):\n",
    "        try:\n",
    "            img_path = os.path.join(train_path, img_name)\n",
    "            img = load_img(img_path, target_size=(224, 224))\n",
    "            img_array = img_to_array(img)\n",
    "            img_array = preprocess_input(img_array)\n",
    "            features = model.predict(np.array([img_array]))\n",
    "            train_features[img_name] = features.flatten()\n",
    "        \n",
    "            img_direction_path = os.path.join(f\"./img_with_vol_10/train_moving/{stock_code}/\", img_name[:-4] + \"_moving.png\")\n",
    "            img_direction = load_img(img_direction_path, target_size=(224, 224))\n",
    "            img_direction_array = img_to_array(img_direction)\n",
    "            img_direction_array = preprocess_input(img_direction_array)\n",
    "            directions = model.predict(np.array([img_direction_array]))\n",
    "            train_directions[img_name] = directions.flatten()\n",
    "        except:\n",
    "            continue\n",
    "\n",
    "    # 각각의 test 이미지마다 유사한 train 이미지를 찾아 해당 디렉토리에 복사합니다.\n",
    "    for test_img_name in tqdm(os.listdir(test_path)):\n",
    "        try:\n",
    "            test_img_path = os.path.join(test_path, test_img_name)\n",
    "            test_img = load_img(test_img_path, target_size=(224, 224))\n",
    "            test_img_array = img_to_array(test_img)\n",
    "            test_img_array = preprocess_input(test_img_array)\n",
    "            test_features = model.predict(np.array([test_img_array]))\n",
    "            similarities = {}\n",
    "            for train_img_name, train_feature in train_features.items():\n",
    "                similarity = cosine_similarity(np.array([test_features.flatten()]), np.array([train_feature]))\n",
    "                similarities[train_img_name] = similarity\n",
    "            # 코사인 유사도가 높은 상위 10개의 train 이미지를 선택합니다.\n",
    "            top_10_similar_images = sorted(similarities.items(), key=lambda x: x[1], reverse=True)[:15]\n",
    "            # test 이미지와 유사한 train 이미지들을 저장할 디렉토리를 생성합니다.\n",
    "            similar_images_dir = os.path.join(test_path, os.path.splitext(test_img_name)[0])\n",
    "            os.makedirs(similar_images_dir, exist_ok=True)\n",
    "            # 상위 10개의 유사한 train 이미지를 해당 디렉토리에 복사합니다.\n",
    "            for train_img_name, _ in top_10_similar_images:\n",
    "                train_img_path = os.path.join(f\"./img_with_vol_10/train/{stock_code}/\", train_img_name)\n",
    "                train_img_direction_path = os.path.join(f\"./img_with_vol_10/train_moving/{stock_code}/\", train_img_name[:-4] + \"_moving.png\")\n",
    "                shutil.copy2(train_img_path, similar_images_dir)\n",
    "                shutil.copy2(train_img_direction_path, similar_images_dir)\n",
    "        except:\n",
    "            continue"
   ]
  },
  {
   "cell_type": "code",
   "execution_count": null,
   "metadata": {},
   "outputs": [],
   "source": []
  }
 ],
 "metadata": {
  "kernelspec": {
   "display_name": "capstone",
   "language": "python",
   "name": "python3"
  },
  "language_info": {
   "codemirror_mode": {
    "name": "ipython",
    "version": 3
   },
   "file_extension": ".py",
   "mimetype": "text/x-python",
   "name": "python",
   "nbconvert_exporter": "python",
   "pygments_lexer": "ipython3",
   "version": "3.7.16"
  },
  "orig_nbformat": 4
 },
 "nbformat": 4,
 "nbformat_minor": 2
}
