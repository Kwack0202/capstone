{
 "cells": [
  {
   "attachments": {},
   "cell_type": "markdown",
   "metadata": {},
   "source": [
    "# Import"
   ]
  },
  {
   "cell_type": "code",
   "execution_count": 3,
   "metadata": {},
   "outputs": [],
   "source": [
    "# ======================================================\n",
    "# 주가 데이터 \n",
    "import FinanceDataReader as fdr\n",
    "import pandas_datareader.data as pdr\n",
    "\n",
    "# ======================================================\n",
    "# TA-Lib\n",
    "# import talib\n",
    "\n",
    "# ======================================================\n",
    "# basic library\n",
    "import warnings\n",
    "\n",
    "import openpyxl\n",
    "import pandas as pd\n",
    "import numpy as np\n",
    "from sklearn.preprocessing import MinMaxScaler\n",
    "\n",
    "import time\n",
    "import math\n",
    "import os\n",
    "import os.path\n",
    "import random\n",
    "import shutil\n",
    "import glob\n",
    "\n",
    "# ======================================================\n",
    "# tqdm\n",
    "from tqdm import tqdm\n",
    "\n",
    "# ======================================================\n",
    "# datetime\n",
    "from datetime import timedelta, datetime\n",
    "\n",
    "# ======================================================\n",
    "# plotting library\n",
    "import matplotlib.pyplot as plt\n",
    "\n",
    "import plotly.graph_objects as go\n",
    "import plotly.subplots as ms\n",
    "import plotly.express as px\n",
    "\n",
    "import mplfinance as fplt\n",
    "from mplfinance.original_flavor import candlestick2_ohlc, volume_overlay\n",
    "\n",
    "import matplotlib.dates as mdates\n",
    "from matplotlib.dates import DateFormatter\n",
    "from matplotlib.dates import MonthLocator\n",
    "from PIL import Image\n",
    "\n",
    "import seaborn as sns\n",
    "import cv2\n",
    "import csv\n",
    "\n",
    "# plt.rcParams['figure.dpi'] = 150\n",
    "from IPython.display import clear_output"
   ]
  },
  {
   "attachments": {},
   "cell_type": "markdown",
   "metadata": {},
   "source": [
    "# 종목 파라미터"
   ]
  },
  {
   "cell_type": "code",
   "execution_count": 2,
   "metadata": {},
   "outputs": [
    {
     "name": "stderr",
     "output_type": "stream",
     "text": [
      "c:\\Users\\coden\\anaconda3\\envs\\capstone\\lib\\site-packages\\openpyxl\\styles\\stylesheet.py:226: UserWarning: Workbook contains no default style, apply openpyxl's default\n",
      "  warn(\"Workbook contains no default style, apply openpyxl's default\")\n"
     ]
    }
   ],
   "source": [
    "kospi = pd.read_excel(\"./2022년_마지막거래일기준_시총.xlsx\") # 2022년도 마지막 거래일 기준"
   ]
  },
  {
   "cell_type": "code",
   "execution_count": null,
   "metadata": {},
   "outputs": [],
   "source": [
    "# 이미지 생성용 파라미터\n",
    "seq_len = 10 # 5일당 1주\n",
    "window_len = int(seq_len/2)\n",
    "\n",
    "kospi_tickers = kospi.sort_values(\"시가총액\", ascending=False).iloc[:150, :]# 시총 상위 100개만 활용\n",
    "\n",
    "train_start_day = '2013-01-01'\n",
    "train_end_day = '2021-01-07' \n",
    "\n",
    "test_start_day = '2021-01-01'\n",
    "test_end_day = '2022-12-31'\n",
    "\n",
    "threshold = 8"
   ]
  },
  {
   "attachments": {},
   "cell_type": "markdown",
   "metadata": {},
   "source": [
    "# 전 종목 방향 예측 정확도 계산"
   ]
  },
  {
   "cell_type": "code",
   "execution_count": 137,
   "metadata": {},
   "outputs": [],
   "source": [
    "folder_path = './img_without_vol_10/train/' # 폴더 경로 설정\n",
    "folder_names = [f for f in os.listdir(folder_path) if os.path.isdir(os.path.join(folder_path, f))]"
   ]
  },
  {
   "cell_type": "code",
   "execution_count": 138,
   "metadata": {},
   "outputs": [],
   "source": [
    "folder_path = './img_without_vol_10/train/'\n",
    "\n",
    "for folder_name in os.listdir(folder_path):\n",
    "    folder = os.path.join(folder_path, folder_name)\n",
    "    if os.path.isdir(folder):\n",
    "        num_images = len(os.listdir(folder))\n",
    "        # print(f\"{folder_name}: {num_images} images\")"
   ]
  },
  {
   "cell_type": "code",
   "execution_count": 139,
   "metadata": {},
   "outputs": [],
   "source": [
    "folder_path = './img_without_vol_10/train/'\n",
    "folders = {}\n",
    "for folder in os.listdir(folder_path):\n",
    "    folder_dir = os.path.join(folder_path, folder)\n",
    "    if os.path.isdir(folder_dir):\n",
    "        num_images = len(os.listdir(folder_dir))\n",
    "        folders[folder] = num_images\n",
    "        \n",
    "folder_names = [folder for folder, num_images in folders.items() if num_images > 390]"
   ]
  },
  {
   "cell_type": "code",
   "execution_count": 140,
   "metadata": {},
   "outputs": [
    {
     "data": {
      "text/plain": [
       "120"
      ]
     },
     "execution_count": 140,
     "metadata": {},
     "output_type": "execute_result"
    }
   ],
   "source": [
    "len(folder_names)"
   ]
  },
  {
   "cell_type": "code",
   "execution_count": 141,
   "metadata": {},
   "outputs": [
    {
     "name": "stderr",
     "output_type": "stream",
     "text": [
      "  0%|          | 0/120 [00:00<?, ?it/s]c:\\Users\\coden\\anaconda3\\envs\\capstone\\lib\\site-packages\\ipykernel_launcher.py:51: SettingWithCopyWarning: \n",
      "A value is trying to be set on a copy of a slice from a DataFrame\n",
      "\n",
      "See the caveats in the documentation: https://pandas.pydata.org/pandas-docs/stable/user_guide/indexing.html#returning-a-view-versus-a-copy\n",
      "c:\\Users\\coden\\anaconda3\\envs\\capstone\\lib\\site-packages\\ipykernel_launcher.py:54: SettingWithCopyWarning: \n",
      "A value is trying to be set on a copy of a slice from a DataFrame\n",
      "\n",
      "See the caveats in the documentation: https://pandas.pydata.org/pandas-docs/stable/user_guide/indexing.html#returning-a-view-versus-a-copy\n",
      "c:\\Users\\coden\\anaconda3\\envs\\capstone\\lib\\site-packages\\ipykernel_launcher.py:57: SettingWithCopyWarning: \n",
      "A value is trying to be set on a copy of a slice from a DataFrame\n",
      "\n",
      "See the caveats in the documentation: https://pandas.pydata.org/pandas-docs/stable/user_guide/indexing.html#returning-a-view-versus-a-copy\n",
      "100%|██████████| 120/120 [00:16<00:00,  7.40it/s]\n"
     ]
    }
   ],
   "source": [
    "# ticker와 accuracy 값을 저장하는 데이터프레임 생성\n",
    "accuracy_df = pd.DataFrame(columns=['ticker', 'accuracy'])\n",
    "\n",
    "# 각 종목의 데이터를 가져와서 종목 별로 이미지를 생성하여 기간 별로 저장 (Train)\n",
    "for ticker in tqdm(folder_names):\n",
    "    with open(f'./img_without_vol_10/train_moving/{ticker}_moving_label.txt', 'r') as f:\n",
    "        lines = f.readlines()\n",
    "\n",
    "    labels = {}\n",
    "\n",
    "    for line in lines:\n",
    "        path, direction = line.strip().split(',')\n",
    "        label = path.split('/')[-1]\n",
    "        if direction == 'Up':\n",
    "            labels[label] = 1\n",
    "        elif direction == 'Down':\n",
    "            labels[label] = 0\n",
    "    \n",
    "    test_dir = f'./img_without_vol_10/test/{ticker}/'\n",
    "    results = []\n",
    "    for folder_name in os.listdir(test_dir):\n",
    "        folder_path = os.path.join(test_dir, folder_name)\n",
    "        if os.path.isdir(folder_path):\n",
    "            up_count = 0\n",
    "            down_count = 0\n",
    "            for image_file in os.listdir(folder_path):\n",
    "                if image_file.endswith('.png'):\n",
    "                    image_name = image_file.split('.')[0]\n",
    "                    if image_name in labels:\n",
    "                        if labels[image_name] == 1:\n",
    "                            up_count += 1\n",
    "                        elif labels[image_name] == 0:\n",
    "                            down_count += 1\n",
    "            results.append((folder_name, up_count, down_count))\n",
    "\n",
    "    train_df = pd.DataFrame(results, columns=['stock_frame', 'Up', 'Down'])\n",
    "\n",
    "    # stock_frame 열에서 '_뒤'의 숫자 값을 추출하여 정수형으로 저장\n",
    "    train_df['num'] = train_df['stock_frame'].str.split('_').str.get(1).astype(int)\n",
    "\n",
    "    # '_뒤'의 숫자 값을 기준으로 오름차순 정렬\n",
    "    train_df = train_df.sort_values(by='num')\n",
    "\n",
    "    # 정렬 후 필요 없어진 열 삭제\n",
    "    train_df = train_df.drop('num', axis=1).reset_index().drop('index', axis=1)\n",
    "\n",
    "    train_df['position'] = ''\n",
    "\n",
    "    for i in range(len(train_df)):\n",
    "        if train_df['Up'][i] >= threshold:\n",
    "            train_df['position'][i] = 1\n",
    "        \n",
    "        elif train_df['Down'][i] >= threshold:\n",
    "            train_df['position'][i] = 0\n",
    "        \n",
    "        else:\n",
    "            train_df['position'][i] = None\n",
    "    \n",
    "    # 파일 경로와 이름\n",
    "    filename = f'./img_without_vol_10/test_moving/{ticker}_moving_label.txt'\n",
    "\n",
    "    # 파일 열기\n",
    "    with open(filename, 'r') as f:\n",
    "        file_list = f.read().splitlines()\n",
    "\n",
    "    # 데이터프레임으로 변환\n",
    "    test_df = pd.DataFrame([x.split(',') for x in file_list], columns=['filename', 'direction'])\n",
    "    test_df['stock_frame'] = test_df['filename'].str.split('/').str[4]\n",
    "    test_df['stock_frame'] = test_df['stock_frame'].str.replace('_moving', '')\n",
    "    test_df.drop(columns=['filename'], inplace=True)\n",
    "    \n",
    "    test_df['real_position'] = ''\n",
    "    for i in range(len(test_df)):\n",
    "        if test_df['direction'][i] == \"Up\":\n",
    "            test_df['real_position'][i] = 1\n",
    "        else:\n",
    "            test_df['real_position'][i] = 0\n",
    "    \n",
    "    final_df = pd.merge(train_df[['stock_frame', 'position']], test_df[['stock_frame', 'real_position']], on = 'stock_frame', how = 'inner')\n",
    "    # None 값이 있는 행 제거\n",
    "    final_df.dropna(inplace=True)\n",
    "    accuracy = (final_df['position'] == final_df['real_position']).mean()\n",
    "    \n",
    "    # 정확도 계산 후 accuracy_df에 추가\n",
    "    accuracy_df = accuracy_df.append({'ticker': ticker, 'accuracy': accuracy}, ignore_index=True)\n",
    "    # print(f'정확도: {accuracy:.2%}')"
   ]
  },
  {
   "cell_type": "code",
   "execution_count": 142,
   "metadata": {},
   "outputs": [],
   "source": [
    "accuracy_df = accuracy_df.sort_values('accuracy', ascending = False).reset_index(drop=True)"
   ]
  },
  {
   "cell_type": "code",
   "execution_count": 143,
   "metadata": {},
   "outputs": [],
   "source": [
    "if not os.path.exists(f'./result/'):\n",
    "                os.makedirs(f'./result/')\n",
    "\n",
    "accuracy_df.to_csv(f'./result/accuracy-{threshold}.csv', header = True, encoding='euc-kr')"
   ]
  },
  {
   "cell_type": "code",
   "execution_count": 144,
   "metadata": {},
   "outputs": [
    {
     "data": {
      "text/plain": [
       "0.5003829758088846"
      ]
     },
     "execution_count": 144,
     "metadata": {},
     "output_type": "execute_result"
    }
   ],
   "source": [
    "accuracy_df['accuracy'].mean()"
   ]
  },
  {
   "cell_type": "code",
   "execution_count": 145,
   "metadata": {},
   "outputs": [],
   "source": [
    "# ticker_list = list(accuracy_df[accuracy_df['accuracy'] >= 0.5]['ticker'].astype(str))"
   ]
  },
  {
   "attachments": {},
   "cell_type": "markdown",
   "metadata": {},
   "source": [
    "# 매매 백테스팅 수익률 확인하기"
   ]
  },
  {
   "cell_type": "code",
   "execution_count": 146,
   "metadata": {},
   "outputs": [],
   "source": [
    "folder_path = './img_without_vol_10/train/'\n",
    "folders = {}\n",
    "for folder in os.listdir(folder_path):\n",
    "    folder_dir = os.path.join(folder_path, folder)\n",
    "    if os.path.isdir(folder_dir):\n",
    "        num_images = len(os.listdir(folder_dir))\n",
    "        folders[folder] = num_images\n",
    "        \n",
    "folder_names = [folder for folder, num_images in folders.items() if num_images > 390]"
   ]
  },
  {
   "cell_type": "code",
   "execution_count": 148,
   "metadata": {},
   "outputs": [],
   "source": [
    "if not os.path.exists(f'./meme/trade_{threshold}'):\n",
    "                os.makedirs(f'./meme/trade_{threshold}')"
   ]
  },
  {
   "cell_type": "code",
   "execution_count": 149,
   "metadata": {},
   "outputs": [
    {
     "name": "stderr",
     "output_type": "stream",
     "text": [
      "  0%|          | 0/120 [00:00<?, ?it/s]c:\\Users\\coden\\anaconda3\\envs\\capstone\\lib\\site-packages\\ipykernel_launcher.py:52: SettingWithCopyWarning: \n",
      "A value is trying to be set on a copy of a slice from a DataFrame\n",
      "\n",
      "See the caveats in the documentation: https://pandas.pydata.org/pandas-docs/stable/user_guide/indexing.html#returning-a-view-versus-a-copy\n",
      "c:\\Users\\coden\\anaconda3\\envs\\capstone\\lib\\site-packages\\ipykernel_launcher.py:55: SettingWithCopyWarning: \n",
      "A value is trying to be set on a copy of a slice from a DataFrame\n",
      "\n",
      "See the caveats in the documentation: https://pandas.pydata.org/pandas-docs/stable/user_guide/indexing.html#returning-a-view-versus-a-copy\n",
      "c:\\Users\\coden\\anaconda3\\envs\\capstone\\lib\\site-packages\\ipykernel_launcher.py:58: SettingWithCopyWarning: \n",
      "A value is trying to be set on a copy of a slice from a DataFrame\n",
      "\n",
      "See the caveats in the documentation: https://pandas.pydata.org/pandas-docs/stable/user_guide/indexing.html#returning-a-view-versus-a-copy\n",
      "100%|██████████| 120/120 [00:41<00:00,  2.93it/s]\n"
     ]
    }
   ],
   "source": [
    "# Create an empty DataFrame to store the results\n",
    "results_bench_df = pd.DataFrame(columns=['ticker', 'Profit Rate(%)'])\n",
    "results_candle_df = pd.DataFrame(columns=['ticker', 'Profit Rate(%)'])\n",
    "\n",
    "# 각 종목의 데이터를 가져와서 종목 별로 이미지를 기간 별로 저장 (Train)\n",
    "for ticker in tqdm(folder_names):\n",
    "    with open(f'./img_without_vol_10/train_moving/{ticker}_moving_label.txt', 'r') as f:\n",
    "        lines = f.readlines()\n",
    "\n",
    "    labels = {}\n",
    "\n",
    "    for line in lines:\n",
    "        path, direction = line.strip().split(',')\n",
    "        label = path.split('/')[-1]\n",
    "        if direction == 'Up':\n",
    "            labels[label] = 1\n",
    "        elif direction == 'Down':\n",
    "            labels[label] = 0\n",
    "    \n",
    "    test_dir = f'./img_without_vol_10/test/{ticker}/'\n",
    "    results = []\n",
    "    for folder_name in os.listdir(test_dir):\n",
    "        folder_path = os.path.join(test_dir, folder_name)\n",
    "        if os.path.isdir(folder_path):\n",
    "            up_count = 0\n",
    "            down_count = 0\n",
    "            for image_file in os.listdir(folder_path):\n",
    "                if image_file.endswith('.png'):\n",
    "                    image_name = image_file.split('.')[0]\n",
    "                    if image_name in labels:\n",
    "                        if labels[image_name] == 1:\n",
    "                            up_count += 1\n",
    "                        elif labels[image_name] == 0:\n",
    "                            down_count += 1\n",
    "            results.append((folder_name, up_count, down_count))\n",
    "\n",
    "    train_df = pd.DataFrame(results, columns=['stock_frame', 'Up', 'Down'])\n",
    "\n",
    "    # stock_frame 열에서 '_뒤'의 숫자 값을 추출하여 정수형으로 저장\n",
    "    train_df['num'] = train_df['stock_frame'].str.split('_').str.get(1).astype(int)\n",
    "\n",
    "    # '_뒤'의 숫자 값을 기준으로 오름차순 정렬\n",
    "    train_df = train_df.sort_values(by='num')\n",
    "\n",
    "    # 정렬 후 필요 없어진 열 삭제\n",
    "    train_df = train_df.drop('num', axis=1).reset_index().drop('index', axis=1)\n",
    "\n",
    "    train_df['position'] = ''\n",
    "\n",
    "    for i in range(len(train_df)):\n",
    "        if train_df['Up'][i] >= threshold:\n",
    "            train_df['position'][i] = 1\n",
    "        \n",
    "        elif train_df['Down'][i] >= threshold:\n",
    "            train_df['position'][i] = 0\n",
    "        \n",
    "        else:\n",
    "            train_df['position'][i] = None\n",
    "            \n",
    "    # ==========================================================================================\n",
    "    ##### 종목 별로 매수, 매도 시그널 생성 부분 #####\n",
    "    stock_data = pd.DataFrame(fdr.DataReader(ticker, test_start_day, test_end_day))\n",
    "    stock_data = stock_data[['Open', 'High', 'Low', 'Close', 'Volume']].astype(float)\n",
    "    stock_data = stock_data.reset_index()\n",
    "    # ==========================================================================================\n",
    "    \n",
    "    # '매매 신호' 데이터 프레임에서 position 열의 값을 추출합니다.\n",
    "    positions = list(train_df['position'])\n",
    "\n",
    "    # 데이터 프레임의 10번째 행부터 5행 단위로 position 열 값을 채웁니다.\n",
    "    for i in range(10, len(stock_data), 5):\n",
    "        stock_data.loc[i, 'position'] = positions[(i-10)//5]\n",
    "        \n",
    "    stock_data = stock_data.dropna(subset=['position']).reset_index(drop=True)\n",
    "    stock_data['position'] = stock_data['position'].astype(int)\n",
    "    \n",
    "    # Open열의 0값을 해당 행의 Close열 값으로 대체\n",
    "    stock_data.loc[stock_data['Open'] == 0, 'Open'] = stock_data['Close']\n",
    "    # ==========================================================================================\n",
    "    ##### 벤치 마크 수익률 Buy and Hold #####\n",
    "    # 첫 행과 마지막 행의 Open과 Close 값을 가져옴\n",
    "    start_price = stock_data.loc[0, 'Open']\n",
    "    end_price = stock_data.loc[len(stock_data) - 1, 'Open']\n",
    "\n",
    "    # 수익률 계산\n",
    "    profit_rate = (end_price - start_price) / start_price * 100\n",
    "    results_bench_df = results_bench_df.append({'ticker': ticker, 'Profit Rate(%)': profit_rate}, ignore_index=True)\n",
    "    \n",
    "    # ==========================================================================================\n",
    "    # 시작 전 기본설정된 매매 신호는 'No action'이라고 가정합니다.\n",
    "    action = \"No action\"\n",
    "\n",
    "    # position 값을 사용해 action 값을 설정하고 컬럼으로 추가합니다.\n",
    "    for i in range(len(stock_data)):\n",
    "        # 이전 행의 position 값\n",
    "        if i == 0:\n",
    "            prev_pos = 0  # 첫 번째 행에서는 이전 행이 없으므로 0으로 설정합니다.\n",
    "        else:\n",
    "            prev_pos = stock_data.loc[i-1, 'position']\n",
    "        # 현재 행의 position 값\n",
    "        curr_pos = stock_data.loc[i, 'position']\n",
    "    \n",
    "        # 첫 번째 행에서 position 값에 따라 action 값을 결정합니다.\n",
    "        if i == 0:\n",
    "            if curr_pos == 0:\n",
    "                action = \"No action\"\n",
    "            else:\n",
    "                action = \"매수\"\n",
    "        # 이전 행에서 매수한 경우\n",
    "        elif prev_pos == 1:\n",
    "            # 현재 행에서도 매수를 유지하는 경우\n",
    "            if curr_pos == 1:\n",
    "                action = \"홀딩\"\n",
    "            # 현재 행에서 매도를 하는 경우\n",
    "            else:\n",
    "                action = \"매도\"\n",
    "        # 이전 행에서 매도를 한 경우 또는 'No action'을 한 경우\n",
    "        else:\n",
    "            # 현재 행에서 매도를 한 경우 또는 'No action'을 한 경우\n",
    "            if curr_pos == 0:\n",
    "                action = \"No action\"\n",
    "            # 현재 행에서 매수를 하는 경우\n",
    "            else:\n",
    "                action = \"매수\"\n",
    "    \n",
    "        if i == len(stock_data) - 1:\n",
    "            action = \"매도\"\n",
    "        # action 값을 컬럼으로 추가합니다.\n",
    "        stock_data.loc[i, 'action'] = action\n",
    "        \n",
    "    df_buy_sell = stock_data[stock_data['action'].isin(['매수', '매도'])].reset_index(drop=True)\n",
    "\n",
    "    # ==========================================================================================\n",
    "    ##### 제안 매매법 수익률 Candle meme #####\n",
    "    buy_dates = []\n",
    "    buy_prices = []\n",
    "    return_rates = []  # 각 매도 별 수익률 저장 리스트\n",
    "\n",
    "    # 누적 수익률을 계산할 변수 초기화\n",
    "    total_return = 1\n",
    "\n",
    "    # 데이터 프레임에 누적 수익률, 매수 가격, 매도 가격, 실현 수익 컬럼 추가\n",
    "    df_buy_sell['Accumulated Return'] = None\n",
    "    df_buy_sell['Return Rate'] = None\n",
    "    df_buy_sell['Buy Price'] = None\n",
    "    df_buy_sell['Sell Price'] = None\n",
    "    df_buy_sell['Realized Return'] = None\n",
    "\n",
    "    # 첫 행부터 끝까지 반복\n",
    "    for i in range(len(df_buy_sell)):\n",
    "\n",
    "        # 현재 행의 action이 매수인 경우\n",
    "        if df_buy_sell.loc[i, 'action'] == '매수':\n",
    "        \n",
    "            # 매수한 날짜와 가격을 리스트에 추가\n",
    "            buy_dates.append(df_buy_sell.loc[i, 'Date'])\n",
    "            buy_prices.append(df_buy_sell.loc[i, 'Open'])\n",
    "        \n",
    "        # 현재 행의 action이 매도인 경우\n",
    "        elif df_buy_sell.loc[i, 'action'] == '매도':\n",
    "        \n",
    "            # 이전에 매수한 가격이 없다면 continue\n",
    "            if len(buy_prices) == 0:\n",
    "                continue\n",
    "        \n",
    "            # 이전에 매수한 가격이 있다면 가장 최근의 가격으로 매도\n",
    "            sell_price = df_buy_sell.loc[i, 'Close']\n",
    "            buy_price = buy_prices.pop()\n",
    "        \n",
    "            # 수익률 계산 및 누적 수익률에 반영\n",
    "            return_rate = sell_price / buy_price\n",
    "            total_return *= return_rate\n",
    "        \n",
    "            # 누적 수익률, 매수 가격, 매도 가격, 실현 수익을 데이터프레임에 반영\n",
    "            df_buy_sell.loc[i, 'Accumulated Return'] = round((total_return - 1) * 100, 2)\n",
    "            df_buy_sell.loc[i, 'Return Rate'] = round((return_rate - 1) * 100, 2)\n",
    "            df_buy_sell.loc[i, 'Buy Price'] = buy_price\n",
    "            df_buy_sell.loc[i, 'Sell Price'] = sell_price\n",
    "            df_buy_sell.loc[i, 'Realized Return'] = sell_price - buy_price\n",
    "            return_rates.append(round((return_rate - 1) * 100, 2))      \n",
    "    results_candle_df = results_candle_df.append({'ticker': ticker, 'Profit Rate(%)': round((total_return - 1) * 100, 2)}, ignore_index=True)\n",
    "    \n",
    "    ############### 개별 종목 매매 내역 성과 부분 ###############\n",
    "    stock_data.to_csv(f'./meme/trade_{threshold}/{ticker}.csv', header = True, encoding='euc-kr') \n",
    "    df_buy_sell.to_csv(f'./meme/trade_{threshold}/{ticker}_buy_sell.csv', header = True, encoding='euc-kr')\n",
    "    ############### 개별 종목 매매 누적수익 성과 부분 ###############\n",
    "    results_bench_df.to_csv(f'./result/benchmark_result.csv', header = True, encoding='euc-kr') \n",
    "    results_candle_df.to_csv(f'./result/candle_meme_result.csv', header = True, encoding='euc-kr')\n",
    "    #################################################################"
   ]
  },
  {
   "cell_type": "code",
   "execution_count": 132,
   "metadata": {},
   "outputs": [
    {
     "data": {
      "text/html": [
       "<div>\n",
       "<style scoped>\n",
       "    .dataframe tbody tr th:only-of-type {\n",
       "        vertical-align: middle;\n",
       "    }\n",
       "\n",
       "    .dataframe tbody tr th {\n",
       "        vertical-align: top;\n",
       "    }\n",
       "\n",
       "    .dataframe thead th {\n",
       "        text-align: right;\n",
       "    }\n",
       "</style>\n",
       "<table border=\"1\" class=\"dataframe\">\n",
       "  <thead>\n",
       "    <tr style=\"text-align: right;\">\n",
       "      <th></th>\n",
       "      <th>ticker</th>\n",
       "      <th>Profit Rate(%)</th>\n",
       "    </tr>\n",
       "  </thead>\n",
       "  <tbody>\n",
       "    <tr>\n",
       "      <th>0</th>\n",
       "      <td>004690</td>\n",
       "      <td>358.737864</td>\n",
       "    </tr>\n",
       "    <tr>\n",
       "      <th>1</th>\n",
       "      <td>017390</td>\n",
       "      <td>355.752212</td>\n",
       "    </tr>\n",
       "    <tr>\n",
       "      <th>2</th>\n",
       "      <td>138040</td>\n",
       "      <td>328.280773</td>\n",
       "    </tr>\n",
       "    <tr>\n",
       "      <th>3</th>\n",
       "      <td>016710</td>\n",
       "      <td>293.053016</td>\n",
       "    </tr>\n",
       "    <tr>\n",
       "      <th>4</th>\n",
       "      <td>000060</td>\n",
       "      <td>225.503356</td>\n",
       "    </tr>\n",
       "    <tr>\n",
       "      <th>...</th>\n",
       "      <td>...</td>\n",
       "      <td>...</td>\n",
       "    </tr>\n",
       "    <tr>\n",
       "      <th>115</th>\n",
       "      <td>068270</td>\n",
       "      <td>-45.867648</td>\n",
       "    </tr>\n",
       "    <tr>\n",
       "      <th>116</th>\n",
       "      <td>018880</td>\n",
       "      <td>-52.601156</td>\n",
       "    </tr>\n",
       "    <tr>\n",
       "      <th>117</th>\n",
       "      <td>036570</td>\n",
       "      <td>-54.010695</td>\n",
       "    </tr>\n",
       "    <tr>\n",
       "      <th>118</th>\n",
       "      <td>008930</td>\n",
       "      <td>-54.387642</td>\n",
       "    </tr>\n",
       "    <tr>\n",
       "      <th>119</th>\n",
       "      <td>051900</td>\n",
       "      <td>-55.758339</td>\n",
       "    </tr>\n",
       "  </tbody>\n",
       "</table>\n",
       "<p>120 rows × 2 columns</p>\n",
       "</div>"
      ],
      "text/plain": [
       "     ticker  Profit Rate(%)\n",
       "0    004690      358.737864\n",
       "1    017390      355.752212\n",
       "2    138040      328.280773\n",
       "3    016710      293.053016\n",
       "4    000060      225.503356\n",
       "..      ...             ...\n",
       "115  068270      -45.867648\n",
       "116  018880      -52.601156\n",
       "117  036570      -54.010695\n",
       "118  008930      -54.387642\n",
       "119  051900      -55.758339\n",
       "\n",
       "[120 rows x 2 columns]"
      ]
     },
     "execution_count": 132,
     "metadata": {},
     "output_type": "execute_result"
    }
   ],
   "source": [
    "results_bench_df.sort_values('Profit Rate(%)', ascending = False).reset_index(drop=True)"
   ]
  },
  {
   "cell_type": "code",
   "execution_count": 133,
   "metadata": {},
   "outputs": [
    {
     "data": {
      "text/html": [
       "<div>\n",
       "<style scoped>\n",
       "    .dataframe tbody tr th:only-of-type {\n",
       "        vertical-align: middle;\n",
       "    }\n",
       "\n",
       "    .dataframe tbody tr th {\n",
       "        vertical-align: top;\n",
       "    }\n",
       "\n",
       "    .dataframe thead th {\n",
       "        text-align: right;\n",
       "    }\n",
       "</style>\n",
       "<table border=\"1\" class=\"dataframe\">\n",
       "  <thead>\n",
       "    <tr style=\"text-align: right;\">\n",
       "      <th></th>\n",
       "      <th>ticker</th>\n",
       "      <th>Profit Rate(%)</th>\n",
       "    </tr>\n",
       "  </thead>\n",
       "  <tbody>\n",
       "    <tr>\n",
       "      <th>0</th>\n",
       "      <td>138040</td>\n",
       "      <td>594.52</td>\n",
       "    </tr>\n",
       "    <tr>\n",
       "      <th>1</th>\n",
       "      <td>005070</td>\n",
       "      <td>289.63</td>\n",
       "    </tr>\n",
       "    <tr>\n",
       "      <th>2</th>\n",
       "      <td>017390</td>\n",
       "      <td>175.42</td>\n",
       "    </tr>\n",
       "    <tr>\n",
       "      <th>3</th>\n",
       "      <td>004690</td>\n",
       "      <td>156.28</td>\n",
       "    </tr>\n",
       "    <tr>\n",
       "      <th>4</th>\n",
       "      <td>047810</td>\n",
       "      <td>138.57</td>\n",
       "    </tr>\n",
       "    <tr>\n",
       "      <th>...</th>\n",
       "      <td>...</td>\n",
       "      <td>...</td>\n",
       "    </tr>\n",
       "    <tr>\n",
       "      <th>115</th>\n",
       "      <td>096770</td>\n",
       "      <td>-41.27</td>\n",
       "    </tr>\n",
       "    <tr>\n",
       "      <th>116</th>\n",
       "      <td>034220</td>\n",
       "      <td>-41.64</td>\n",
       "    </tr>\n",
       "    <tr>\n",
       "      <th>117</th>\n",
       "      <td>004020</td>\n",
       "      <td>-43.38</td>\n",
       "    </tr>\n",
       "    <tr>\n",
       "      <th>118</th>\n",
       "      <td>035420</td>\n",
       "      <td>-48.05</td>\n",
       "    </tr>\n",
       "    <tr>\n",
       "      <th>119</th>\n",
       "      <td>000120</td>\n",
       "      <td>-53.26</td>\n",
       "    </tr>\n",
       "  </tbody>\n",
       "</table>\n",
       "<p>120 rows × 2 columns</p>\n",
       "</div>"
      ],
      "text/plain": [
       "     ticker  Profit Rate(%)\n",
       "0    138040          594.52\n",
       "1    005070          289.63\n",
       "2    017390          175.42\n",
       "3    004690          156.28\n",
       "4    047810          138.57\n",
       "..      ...             ...\n",
       "115  096770          -41.27\n",
       "116  034220          -41.64\n",
       "117  004020          -43.38\n",
       "118  035420          -48.05\n",
       "119  000120          -53.26\n",
       "\n",
       "[120 rows x 2 columns]"
      ]
     },
     "execution_count": 133,
     "metadata": {},
     "output_type": "execute_result"
    }
   ],
   "source": [
    "results_candle_df.sort_values('Profit Rate(%)', ascending = False).reset_index(drop=True)"
   ]
  },
  {
   "attachments": {},
   "cell_type": "markdown",
   "metadata": {},
   "source": [
    "# 캔들 스틱 매매법 수익률 확인하기"
   ]
  },
  {
   "cell_type": "code",
   "execution_count": 134,
   "metadata": {},
   "outputs": [
    {
     "data": {
      "text/plain": [
       "10.114923596801498"
      ]
     },
     "execution_count": 134,
     "metadata": {},
     "output_type": "execute_result"
    }
   ],
   "source": [
    "results_bench_df['Profit Rate(%)'].mean()"
   ]
  },
  {
   "cell_type": "code",
   "execution_count": 135,
   "metadata": {},
   "outputs": [
    {
     "data": {
      "text/plain": [
       "13.710916666666666"
      ]
     },
     "execution_count": 135,
     "metadata": {},
     "output_type": "execute_result"
    }
   ],
   "source": [
    "results_candle_df['Profit Rate(%)'].mean()"
   ]
  },
  {
   "cell_type": "code",
   "execution_count": 106,
   "metadata": {},
   "outputs": [],
   "source": [
    "profit_rate_std_bench = results_bench_df['Profit Rate(%)'].std()\n",
    "profit_rate_std_candle = results_candle_df['Profit Rate(%)'].std()"
   ]
  },
  {
   "cell_type": "code",
   "execution_count": 107,
   "metadata": {},
   "outputs": [
    {
     "data": {
      "image/png": "[encoded data removed]",
      "text/plain": [
       "<Figure size 800x600 with 1 Axes>"
      ]
     },
     "metadata": {},
     "output_type": "display_data"
    }
   ],
   "source": [
    "# 그래프 크기 설정\n",
    "plt.figure(figsize=(8,6))\n",
    "\n",
    "# 벤치마크 데이터프레임의 Profit Rate(%) 표준편차를 시각화\n",
    "sns.kdeplot(data=results_bench_df['Profit Rate(%)'], label='Benchmark')\n",
    "plt.axvline(profit_rate_std_bench, color='blue', linestyle='--', label='Benchmark Std')\n",
    "\n",
    "# 캔들차트 데이터프레임의 Profit Rate(%) 표준편차를 시각화\n",
    "sns.kdeplot(data=results_candle_df['Profit Rate(%)'], label='Candle Chart')\n",
    "plt.axvline(profit_rate_std_candle, color='orange', linestyle='--', label='Candle Chart Std')\n",
    "\n",
    "# 그래프 타이틀, 라벨, 범례 등 설정\n",
    "plt.title('Profit Rate (%) Standard Deviation Comparison', fontsize=16)\n",
    "\n",
    "plt.xlim([-150, 150])\n",
    "\n",
    "plt.xlabel('Profit Rate (%)', fontsize=14)\n",
    "plt.ylabel('Density', fontsize=14)\n",
    "plt.legend(fontsize=12)\n",
    "plt.show()"
   ]
  },
  {
   "attachments": {},
   "cell_type": "markdown",
   "metadata": {},
   "source": [
    "# 포트폴리오 비교"
   ]
  },
  {
   "cell_type": "code",
   "execution_count": 159,
   "metadata": {},
   "outputs": [],
   "source": [
    "stock_trade = pd.read_csv(f\"./meme/trade_8/000880_buy_sell.csv\", encoding='euc-kr')\n",
    "stock_trade = stock_trade.dropna(axis = 0)\n",
    "stock_trade = stock_trade[['Return Rate', 'Accumulated Return', 'Buy Price', 'Sell Price', 'Realized Return']]"
   ]
  },
  {
   "cell_type": "code",
   "execution_count": 160,
   "metadata": {},
   "outputs": [
    {
     "data": {
      "text/html": [
       "<div>\n",
       "<style scoped>\n",
       "    .dataframe tbody tr th:only-of-type {\n",
       "        vertical-align: middle;\n",
       "    }\n",
       "\n",
       "    .dataframe tbody tr th {\n",
       "        vertical-align: top;\n",
       "    }\n",
       "\n",
       "    .dataframe thead th {\n",
       "        text-align: right;\n",
       "    }\n",
       "</style>\n",
       "<table border=\"1\" class=\"dataframe\">\n",
       "  <thead>\n",
       "    <tr style=\"text-align: right;\">\n",
       "      <th></th>\n",
       "      <th>Return Rate</th>\n",
       "      <th>Accumulated Return</th>\n",
       "      <th>Buy Price</th>\n",
       "      <th>Sell Price</th>\n",
       "      <th>Realized Return</th>\n",
       "    </tr>\n",
       "  </thead>\n",
       "  <tbody>\n",
       "    <tr>\n",
       "      <th>1</th>\n",
       "      <td>-4.22</td>\n",
       "      <td>-4.22</td>\n",
       "      <td>34350.0</td>\n",
       "      <td>32900.0</td>\n",
       "      <td>-1450.0</td>\n",
       "    </tr>\n",
       "    <tr>\n",
       "      <th>3</th>\n",
       "      <td>-5.19</td>\n",
       "      <td>-9.19</td>\n",
       "      <td>30850.0</td>\n",
       "      <td>29250.0</td>\n",
       "      <td>-1600.0</td>\n",
       "    </tr>\n",
       "    <tr>\n",
       "      <th>5</th>\n",
       "      <td>3.67</td>\n",
       "      <td>-5.85</td>\n",
       "      <td>28600.0</td>\n",
       "      <td>29650.0</td>\n",
       "      <td>1050.0</td>\n",
       "    </tr>\n",
       "    <tr>\n",
       "      <th>7</th>\n",
       "      <td>5.98</td>\n",
       "      <td>-0.22</td>\n",
       "      <td>29250.0</td>\n",
       "      <td>31000.0</td>\n",
       "      <td>1750.0</td>\n",
       "    </tr>\n",
       "    <tr>\n",
       "      <th>9</th>\n",
       "      <td>-1.86</td>\n",
       "      <td>-2.08</td>\n",
       "      <td>32200.0</td>\n",
       "      <td>31600.0</td>\n",
       "      <td>-600.0</td>\n",
       "    </tr>\n",
       "  </tbody>\n",
       "</table>\n",
       "</div>"
      ],
      "text/plain": [
       "   Return Rate  Accumulated Return  Buy Price  Sell Price  Realized Return\n",
       "1        -4.22               -4.22    34350.0     32900.0          -1450.0\n",
       "3        -5.19               -9.19    30850.0     29250.0          -1600.0\n",
       "5         3.67               -5.85    28600.0     29650.0           1050.0\n",
       "7         5.98               -0.22    29250.0     31000.0           1750.0\n",
       "9        -1.86               -2.08    32200.0     31600.0           -600.0"
      ]
     },
     "execution_count": 160,
     "metadata": {},
     "output_type": "execute_result"
    }
   ],
   "source": [
    "stock_trade.head()"
   ]
  },
  {
   "cell_type": "code",
   "execution_count": 168,
   "metadata": {},
   "outputs": [
    {
     "name": "stderr",
     "output_type": "stream",
     "text": [
      "100%|██████████| 120/120 [00:00<00:00, 145.67it/s]\n"
     ]
    }
   ],
   "source": [
    "trade_result = pd.DataFrame(columns=['ticker', 'No_trade','Winning_ratio','profit_average', 'loss_average', 'payoff_ratio', 'profit_factor'])\n",
    "\n",
    "for ticker in tqdm(folder_names):\n",
    "    stock_trade = pd.read_csv(f\"./meme/trade_8/{ticker}_buy_sell.csv\", encoding='euc-kr')\n",
    "    stock_trade = stock_trade.dropna(axis = 0)\n",
    "    stock_trade = stock_trade[['Return Rate', 'Accumulated Return', 'Buy Price', 'Sell Price', 'Realized Return']]\n",
    "    \n",
    "    # 이익을 낸 거래 수와 총 거래 수 계산\n",
    "    profitable_trades = len(stock_trade[stock_trade['Realized Return'] > 0])\n",
    "    total_trades = len(stock_trade)\n",
    "\n",
    "    # 승률 계산\n",
    "    win_rate = profitable_trades / total_trades * 100\n",
    "    \n",
    "    # 수익 계산\n",
    "    positive_profit = stock_trade[stock_trade['Realized Return'] > 0]['Realized Return']\n",
    "    profit_average = positive_profit.mean() # 평균 수익금액 -> 아웃풋\n",
    "    profit_sum = positive_profit.sum() # 총 수익금액\n",
    "     \n",
    "    # 손실 계산\n",
    "    negative_profit = stock_trade[stock_trade['Realized Return'] < 0]['Realized Return'] * -1\n",
    "    loss_average = negative_profit.mean() # 평균 손실금액 -> 아웃풋\n",
    "    loss_sum = negative_profit.sum() # 총 손실금액\n",
    "    \n",
    "    # payoff_ratio\n",
    "    payoff_ratio = profit_average / loss_average # -> 아웃풋\n",
    "    \n",
    "    # profit_factor\n",
    "    profit_factor = profit_sum / loss_sum # -> 아웃풋\n",
    "    \n",
    "    trade_result = trade_result.append({'ticker': ticker, 'No_trade': total_trades, 'Winning_ratio':win_rate,\n",
    "                                        'profit_average': profit_average, 'loss_average': loss_average,\n",
    "                                        'payoff_ratio': payoff_ratio, 'profit_factor': profit_factor}, ignore_index=True)\n",
    "    "
   ]
  },
  {
   "cell_type": "code",
   "execution_count": 176,
   "metadata": {},
   "outputs": [],
   "source": [
    "trade_result.to_csv(\"final_result.csv\", encoding='euc-kr')"
   ]
  },
  {
   "cell_type": "code",
   "execution_count": 180,
   "metadata": {},
   "outputs": [
    {
     "name": "stdout",
     "output_type": "stream",
     "text": [
      "Payoff-Ratio: 1.093921529228356\n"
     ]
    }
   ],
   "source": [
    "print(\"Payoff-Ratio:\", trade_result['payoff_ratio'].mean())"
   ]
  },
  {
   "cell_type": "code",
   "execution_count": 179,
   "metadata": {},
   "outputs": [
    {
     "name": "stdout",
     "output_type": "stream",
     "text": [
      "profit_factor: 1.3403977087357317\n"
     ]
    }
   ],
   "source": [
    "print(\"profit_factor:\", trade_result['profit_factor'].mean())"
   ]
  },
  {
   "cell_type": "code",
   "execution_count": 181,
   "metadata": {},
   "outputs": [
    {
     "data": {
      "text/html": [
       "<div>\n",
       "<style scoped>\n",
       "    .dataframe tbody tr th:only-of-type {\n",
       "        vertical-align: middle;\n",
       "    }\n",
       "\n",
       "    .dataframe tbody tr th {\n",
       "        vertical-align: top;\n",
       "    }\n",
       "\n",
       "    .dataframe thead th {\n",
       "        text-align: right;\n",
       "    }\n",
       "</style>\n",
       "<table border=\"1\" class=\"dataframe\">\n",
       "  <thead>\n",
       "    <tr style=\"text-align: right;\">\n",
       "      <th></th>\n",
       "      <th>ticker</th>\n",
       "      <th>No_trade</th>\n",
       "      <th>Winning_ratio</th>\n",
       "      <th>profit_average</th>\n",
       "      <th>loss_average</th>\n",
       "      <th>payoff_ratio</th>\n",
       "      <th>profit_factor</th>\n",
       "    </tr>\n",
       "  </thead>\n",
       "  <tbody>\n",
       "    <tr>\n",
       "      <th>0</th>\n",
       "      <td>000060</td>\n",
       "      <td>21</td>\n",
       "      <td>42.857143</td>\n",
       "      <td>1761.111111</td>\n",
       "      <td>2845.833333</td>\n",
       "      <td>0.618838</td>\n",
       "      <td>0.464129</td>\n",
       "    </tr>\n",
       "    <tr>\n",
       "      <th>1</th>\n",
       "      <td>000080</td>\n",
       "      <td>17</td>\n",
       "      <td>41.176471</td>\n",
       "      <td>1664.285714</td>\n",
       "      <td>3185.714286</td>\n",
       "      <td>0.522422</td>\n",
       "      <td>0.522422</td>\n",
       "    </tr>\n",
       "    <tr>\n",
       "      <th>2</th>\n",
       "      <td>000100</td>\n",
       "      <td>21</td>\n",
       "      <td>42.857143</td>\n",
       "      <td>1418.444444</td>\n",
       "      <td>2062.833333</td>\n",
       "      <td>0.687620</td>\n",
       "      <td>0.515715</td>\n",
       "    </tr>\n",
       "    <tr>\n",
       "      <th>3</th>\n",
       "      <td>000120</td>\n",
       "      <td>22</td>\n",
       "      <td>36.363636</td>\n",
       "      <td>4200.000000</td>\n",
       "      <td>11041.666667</td>\n",
       "      <td>0.380377</td>\n",
       "      <td>0.253585</td>\n",
       "    </tr>\n",
       "    <tr>\n",
       "      <th>4</th>\n",
       "      <td>000270</td>\n",
       "      <td>24</td>\n",
       "      <td>54.166667</td>\n",
       "      <td>2807.692308</td>\n",
       "      <td>4470.000000</td>\n",
       "      <td>0.628119</td>\n",
       "      <td>0.816555</td>\n",
       "    </tr>\n",
       "    <tr>\n",
       "      <th>...</th>\n",
       "      <td>...</td>\n",
       "      <td>...</td>\n",
       "      <td>...</td>\n",
       "      <td>...</td>\n",
       "      <td>...</td>\n",
       "      <td>...</td>\n",
       "      <td>...</td>\n",
       "    </tr>\n",
       "    <tr>\n",
       "      <th>115</th>\n",
       "      <td>128940</td>\n",
       "      <td>27</td>\n",
       "      <td>40.740741</td>\n",
       "      <td>9919.181818</td>\n",
       "      <td>9174.375000</td>\n",
       "      <td>1.081183</td>\n",
       "      <td>0.743314</td>\n",
       "    </tr>\n",
       "    <tr>\n",
       "      <th>116</th>\n",
       "      <td>138040</td>\n",
       "      <td>24</td>\n",
       "      <td>66.666667</td>\n",
       "      <td>3480.625000</td>\n",
       "      <td>1837.500000</td>\n",
       "      <td>1.894218</td>\n",
       "      <td>3.788435</td>\n",
       "    </tr>\n",
       "    <tr>\n",
       "      <th>117</th>\n",
       "      <td>138930</td>\n",
       "      <td>26</td>\n",
       "      <td>61.538462</td>\n",
       "      <td>186.875000</td>\n",
       "      <td>303.750000</td>\n",
       "      <td>0.615226</td>\n",
       "      <td>1.230453</td>\n",
       "    </tr>\n",
       "    <tr>\n",
       "      <th>118</th>\n",
       "      <td>139480</td>\n",
       "      <td>23</td>\n",
       "      <td>34.782609</td>\n",
       "      <td>4237.500000</td>\n",
       "      <td>6842.857143</td>\n",
       "      <td>0.619259</td>\n",
       "      <td>0.353862</td>\n",
       "    </tr>\n",
       "    <tr>\n",
       "      <th>119</th>\n",
       "      <td>161390</td>\n",
       "      <td>24</td>\n",
       "      <td>54.166667</td>\n",
       "      <td>1907.692308</td>\n",
       "      <td>1377.272727</td>\n",
       "      <td>1.385123</td>\n",
       "      <td>1.636964</td>\n",
       "    </tr>\n",
       "  </tbody>\n",
       "</table>\n",
       "<p>120 rows × 7 columns</p>\n",
       "</div>"
      ],
      "text/plain": [
       "     ticker No_trade  Winning_ratio  profit_average  loss_average  \\\n",
       "0    000060       21      42.857143     1761.111111   2845.833333   \n",
       "1    000080       17      41.176471     1664.285714   3185.714286   \n",
       "2    000100       21      42.857143     1418.444444   2062.833333   \n",
       "3    000120       22      36.363636     4200.000000  11041.666667   \n",
       "4    000270       24      54.166667     2807.692308   4470.000000   \n",
       "..      ...      ...            ...             ...           ...   \n",
       "115  128940       27      40.740741     9919.181818   9174.375000   \n",
       "116  138040       24      66.666667     3480.625000   1837.500000   \n",
       "117  138930       26      61.538462      186.875000    303.750000   \n",
       "118  139480       23      34.782609     4237.500000   6842.857143   \n",
       "119  161390       24      54.166667     1907.692308   1377.272727   \n",
       "\n",
       "     payoff_ratio  profit_factor  \n",
       "0        0.618838       0.464129  \n",
       "1        0.522422       0.522422  \n",
       "2        0.687620       0.515715  \n",
       "3        0.380377       0.253585  \n",
       "4        0.628119       0.816555  \n",
       "..            ...            ...  \n",
       "115      1.081183       0.743314  \n",
       "116      1.894218       3.788435  \n",
       "117      0.615226       1.230453  \n",
       "118      0.619259       0.353862  \n",
       "119      1.385123       1.636964  \n",
       "\n",
       "[120 rows x 7 columns]"
      ]
     },
     "execution_count": 181,
     "metadata": {},
     "output_type": "execute_result"
    }
   ],
   "source": [
    "trade_result"
   ]
  },
  {
   "cell_type": "code",
   "execution_count": 196,
   "metadata": {},
   "outputs": [
    {
     "data": {
      "text/plain": [
       "<AxesSubplot:>"
      ]
     },
     "execution_count": 196,
     "metadata": {},
     "output_type": "execute_result"
    },
    {
     "data": {
      "image/png": "[encoded data removed]",
      "text/plain": [
       "<Figure size 640x480 with 1 Axes>"
      ]
     },
     "metadata": {},
     "output_type": "display_data"
    }
   ],
   "source": [
    "# 상위, 하위 5%의 값을 구합니다.\n",
    "payoff_ratio_5per = trade_result.payoff_ratio.quantile(q=0.25)\n",
    "payoff_ratio_95per = trade_result.payoff_ratio.quantile(q=0.75)\n",
    "profit_factor_5per = trade_result.profit_factor.quantile(q=0.25)\n",
    "profit_factor_95per = trade_result.profit_factor.quantile(q=0.75)\n",
    "\n",
    "# 상위, 하위 5%를 제외한 값으로 데이터프레임을 필터링합니다.\n",
    "trade_result_filtered = trade_result[(trade_result['payoff_ratio'] >= payoff_ratio_5per) & (trade_result['payoff_ratio'] <= payoff_ratio_95per) & \n",
    "                 (trade_result['profit_factor'] >= profit_factor_5per) & (trade_result['profit_factor'] <= profit_factor_95per)]\n",
    "\n",
    "# payoff_ratio와 profit_factor에 대한 boxplot을 그립니다.\n",
    "sns.boxplot(data=trade_result_filtered[['payoff_ratio', 'profit_factor']])"
   ]
  },
  {
   "attachments": {},
   "cell_type": "markdown",
   "metadata": {},
   "source": [
    "# 097950 CJ 제일제당 확인하기"
   ]
  },
  {
   "cell_type": "code",
   "execution_count": 18,
   "metadata": {},
   "outputs": [],
   "source": [
    "test_start_day = '2021-01-01'\n",
    "test_end_day = '2022-12-31'"
   ]
  },
  {
   "attachments": {},
   "cell_type": "markdown",
   "metadata": {},
   "source": [
    "### 벤치마크 누적 수익률 변화"
   ]
  },
  {
   "cell_type": "code",
   "execution_count": 19,
   "metadata": {},
   "outputs": [],
   "source": [
    "stock_data = pd.DataFrame(fdr.DataReader('011790', test_start_day, test_end_day))\n",
    "stock_data = stock_data[['Open', 'High', 'Low', 'Close', 'Volume']].astype(float)\n",
    "stock_data = stock_data.reset_index()"
   ]
  },
  {
   "cell_type": "code",
   "execution_count": 20,
   "metadata": {},
   "outputs": [
    {
     "data": {
      "text/html": [
       "<div>\n",
       "<style scoped>\n",
       "    .dataframe tbody tr th:only-of-type {\n",
       "        vertical-align: middle;\n",
       "    }\n",
       "\n",
       "    .dataframe tbody tr th {\n",
       "        vertical-align: top;\n",
       "    }\n",
       "\n",
       "    .dataframe thead th {\n",
       "        text-align: right;\n",
       "    }\n",
       "</style>\n",
       "<table border=\"1\" class=\"dataframe\">\n",
       "  <thead>\n",
       "    <tr style=\"text-align: right;\">\n",
       "      <th></th>\n",
       "      <th>Date</th>\n",
       "      <th>Open</th>\n",
       "      <th>High</th>\n",
       "      <th>Low</th>\n",
       "      <th>Close</th>\n",
       "      <th>Volume</th>\n",
       "    </tr>\n",
       "  </thead>\n",
       "  <tbody>\n",
       "    <tr>\n",
       "      <th>0</th>\n",
       "      <td>2021-01-04</td>\n",
       "      <td>95800.0</td>\n",
       "      <td>102500.0</td>\n",
       "      <td>94000.0</td>\n",
       "      <td>101500.0</td>\n",
       "      <td>1004073.0</td>\n",
       "    </tr>\n",
       "    <tr>\n",
       "      <th>1</th>\n",
       "      <td>2021-01-05</td>\n",
       "      <td>100500.0</td>\n",
       "      <td>104000.0</td>\n",
       "      <td>99100.0</td>\n",
       "      <td>102500.0</td>\n",
       "      <td>535864.0</td>\n",
       "    </tr>\n",
       "    <tr>\n",
       "      <th>2</th>\n",
       "      <td>2021-01-06</td>\n",
       "      <td>104000.0</td>\n",
       "      <td>107000.0</td>\n",
       "      <td>100500.0</td>\n",
       "      <td>102000.0</td>\n",
       "      <td>633921.0</td>\n",
       "    </tr>\n",
       "    <tr>\n",
       "      <th>3</th>\n",
       "      <td>2021-01-07</td>\n",
       "      <td>103000.0</td>\n",
       "      <td>105000.0</td>\n",
       "      <td>101000.0</td>\n",
       "      <td>102000.0</td>\n",
       "      <td>454619.0</td>\n",
       "    </tr>\n",
       "    <tr>\n",
       "      <th>4</th>\n",
       "      <td>2021-01-08</td>\n",
       "      <td>104500.0</td>\n",
       "      <td>110000.0</td>\n",
       "      <td>102000.0</td>\n",
       "      <td>106500.0</td>\n",
       "      <td>756952.0</td>\n",
       "    </tr>\n",
       "    <tr>\n",
       "      <th>...</th>\n",
       "      <td>...</td>\n",
       "      <td>...</td>\n",
       "      <td>...</td>\n",
       "      <td>...</td>\n",
       "      <td>...</td>\n",
       "      <td>...</td>\n",
       "    </tr>\n",
       "    <tr>\n",
       "      <th>489</th>\n",
       "      <td>2022-12-23</td>\n",
       "      <td>94900.0</td>\n",
       "      <td>95900.0</td>\n",
       "      <td>92200.0</td>\n",
       "      <td>92400.0</td>\n",
       "      <td>146808.0</td>\n",
       "    </tr>\n",
       "    <tr>\n",
       "      <th>490</th>\n",
       "      <td>2022-12-26</td>\n",
       "      <td>92400.0</td>\n",
       "      <td>93200.0</td>\n",
       "      <td>91400.0</td>\n",
       "      <td>92800.0</td>\n",
       "      <td>119402.0</td>\n",
       "    </tr>\n",
       "    <tr>\n",
       "      <th>491</th>\n",
       "      <td>2022-12-27</td>\n",
       "      <td>93700.0</td>\n",
       "      <td>94300.0</td>\n",
       "      <td>92300.0</td>\n",
       "      <td>92900.0</td>\n",
       "      <td>109614.0</td>\n",
       "    </tr>\n",
       "    <tr>\n",
       "      <th>492</th>\n",
       "      <td>2022-12-28</td>\n",
       "      <td>91500.0</td>\n",
       "      <td>91600.0</td>\n",
       "      <td>88800.0</td>\n",
       "      <td>89400.0</td>\n",
       "      <td>181192.0</td>\n",
       "    </tr>\n",
       "    <tr>\n",
       "      <th>493</th>\n",
       "      <td>2022-12-29</td>\n",
       "      <td>88500.0</td>\n",
       "      <td>90200.0</td>\n",
       "      <td>87800.0</td>\n",
       "      <td>88500.0</td>\n",
       "      <td>116511.0</td>\n",
       "    </tr>\n",
       "  </tbody>\n",
       "</table>\n",
       "<p>494 rows × 6 columns</p>\n",
       "</div>"
      ],
      "text/plain": [
       "          Date      Open      High       Low     Close     Volume\n",
       "0   2021-01-04   95800.0  102500.0   94000.0  101500.0  1004073.0\n",
       "1   2021-01-05  100500.0  104000.0   99100.0  102500.0   535864.0\n",
       "2   2021-01-06  104000.0  107000.0  100500.0  102000.0   633921.0\n",
       "3   2021-01-07  103000.0  105000.0  101000.0  102000.0   454619.0\n",
       "4   2021-01-08  104500.0  110000.0  102000.0  106500.0   756952.0\n",
       "..         ...       ...       ...       ...       ...        ...\n",
       "489 2022-12-23   94900.0   95900.0   92200.0   92400.0   146808.0\n",
       "490 2022-12-26   92400.0   93200.0   91400.0   92800.0   119402.0\n",
       "491 2022-12-27   93700.0   94300.0   92300.0   92900.0   109614.0\n",
       "492 2022-12-28   91500.0   91600.0   88800.0   89400.0   181192.0\n",
       "493 2022-12-29   88500.0   90200.0   87800.0   88500.0   116511.0\n",
       "\n",
       "[494 rows x 6 columns]"
      ]
     },
     "execution_count": 20,
     "metadata": {},
     "output_type": "execute_result"
    }
   ],
   "source": [
    "stock_data"
   ]
  },
  {
   "cell_type": "code",
   "execution_count": 21,
   "metadata": {},
   "outputs": [
    {
     "data": {
      "image/png": "[encoded data removed]",
      "text/plain": [
       "<Figure size 640x480 with 1 Axes>"
      ]
     },
     "metadata": {},
     "output_type": "display_data"
    }
   ],
   "source": [
    "# 전일 대비 시가 변화 계산하기\n",
    "stock_data['시가변화'] = stock_data['Open'] - stock_data['Open'].shift(1)\n",
    "\n",
    "# 누적 수익 계산하기\n",
    "stock_data['누적수익'] = stock_data['시가변화'].cumsum()\n",
    "\n",
    "# 시계열 그래프 그리기\n",
    "plt.plot(stock_data['Date'], stock_data['누적수익'])\n",
    "plt.xlabel('Date')\n",
    "plt.ylabel('Change in Open')\n",
    "plt.title('Changes in Open Price over Time')\n",
    "plt.show()"
   ]
  },
  {
   "attachments": {},
   "cell_type": "markdown",
   "metadata": {},
   "source": [
    "# 캔들 매매 누적 수익 계산하기"
   ]
  },
  {
   "cell_type": "code",
   "execution_count": 8,
   "metadata": {},
   "outputs": [],
   "source": [
    "stock_trade = pd.read_csv(\"./meme/trade_8/086790_buy_sell.csv\", encoding='euc-kr')\n",
    "stock_trade = stock_trade.dropna(axis = 0)\n",
    "stock_trade = stock_trade[['Date', 'Return Rate', 'Accumulated Return', 'Buy Price', 'Sell Price', 'Realized Return']]"
   ]
  },
  {
   "cell_type": "code",
   "execution_count": 9,
   "metadata": {},
   "outputs": [],
   "source": [
    "stock_data['Date'] = pd.to_datetime(stock_data['Date'])"
   ]
  },
  {
   "cell_type": "code",
   "execution_count": 10,
   "metadata": {},
   "outputs": [],
   "source": [
    "stock_trade['Date'] = pd.to_datetime(stock_trade['Date'])"
   ]
  },
  {
   "cell_type": "code",
   "execution_count": 11,
   "metadata": {},
   "outputs": [],
   "source": [
    "merge_df = pd.merge(stock_data, stock_trade[['Date', 'Return Rate', 'Accumulated Return', 'Buy Price', 'Sell Price', 'Realized Return']], on = 'Date', how = 'outer')"
   ]
  },
  {
   "cell_type": "code",
   "execution_count": 12,
   "metadata": {},
   "outputs": [],
   "source": [
    "# merge_df['Realized Return'] = merge_df['Realized Return'].replace(0, pd.np.nan).ffill().fillna(0)"
   ]
  },
  {
   "cell_type": "code",
   "execution_count": 13,
   "metadata": {},
   "outputs": [],
   "source": [
    "merge_df['캔들누적수익'] = merge_df['Realized Return'].cumsum()"
   ]
  },
  {
   "cell_type": "code",
   "execution_count": 14,
   "metadata": {},
   "outputs": [],
   "source": [
    "merge_df.to_csv(\"wqeqweq.csv\", encoding=\"euc-kr\")"
   ]
  },
  {
   "cell_type": "code",
   "execution_count": 15,
   "metadata": {},
   "outputs": [],
   "source": [
    "merge_df = pd.read_csv(\"wqeqweq.csv\", encoding=\"euc-kr\")"
   ]
  },
  {
   "cell_type": "code",
   "execution_count": 16,
   "metadata": {},
   "outputs": [
    {
     "data": {
      "image/png": "[encoded data removed]",
      "text/plain": [
       "<Figure size 640x480 with 2 Axes>"
      ]
     },
     "metadata": {},
     "output_type": "display_data"
    }
   ],
   "source": [
    "# x축으로 사용할 날짜 데이터\n",
    "dates = merge_df['Date']\n",
    "\n",
    "# y축으로 사용할 데이터\n",
    "bench_return = merge_df['누적수익']\n",
    "candle_return = merge_df['캔들누적수익']\n",
    "\n",
    "# 그래프 생성\n",
    "fig, ax1 = plt.subplots()\n",
    "\n",
    "# Close 데이터 시각화\n",
    "color = 'tab:red'\n",
    "ax1.set_xlabel('Date')\n",
    "ax1.set_ylabel('Benchmark Return', color=color)\n",
    "ax1.plot(dates, bench_return, color=color)\n",
    "ax1.tick_params(axis='y', labelcolor=color)\n",
    "\n",
    "# Accumulated Return 데이터 시각화\n",
    "ax2 = ax1.twinx()\n",
    "color = 'tab:blue'\n",
    "ax2.set_ylabel('Candle Return', color=color)\n",
    "ax2.plot(dates, candle_return, color=color)\n",
    "ax2.tick_params(axis='y', labelcolor=color)\n",
    "ax2.axhline(y=0, color='black', linestyle='--')\n",
    "\n",
    "# X축 레이블 일부분만 표시하기\n",
    "n = 100  # 1/n 비율로 표시\n",
    "plt.xticks(range(0, len(dates), n), dates[::n], rotation=45)\n",
    "\n",
    "# ax1과 ax2의 Y축 범위 동일하게 설정하기\n",
    "ax2.set_ylim(ax1.get_ylim())\n",
    "\n",
    "# 그래프 출력\n",
    "plt.title('Comparing returns')\n",
    "fig.tight_layout()\n",
    "plt.show()"
   ]
  },
  {
   "cell_type": "code",
   "execution_count": null,
   "metadata": {},
   "outputs": [],
   "source": []
  }
 ],
 "metadata": {
  "kernelspec": {
   "display_name": "capstone",
   "language": "python",
   "name": "python3"
  },
  "language_info": {
   "codemirror_mode": {
    "name": "ipython",
    "version": 3
   },
   "file_extension": ".py",
   "mimetype": "text/x-python",
   "name": "python",
   "nbconvert_exporter": "python",
   "pygments_lexer": "ipython3",
   "version": "3.7.16"
  },
  "orig_nbformat": 4
 },
 "nbformat": 4,
 "nbformat_minor": 2
}
